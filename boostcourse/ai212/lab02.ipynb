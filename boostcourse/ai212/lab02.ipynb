{
  "nbformat": 4,
  "nbformat_minor": 0,
  "metadata": {
    "kernelspec": {
      "display_name": "Python 3",
      "language": "python",
      "name": "python3"
    },
    "language_info": {
      "codemirror_mode": {
        "name": "ipython",
        "version": 2
      },
      "file_extension": ".py",
      "mimetype": "text/x-python",
      "name": "python",
      "nbconvert_exporter": "python",
      "pygments_lexer": "ipython2",
      "version": "2.7.6"
    },
    "colab": {
      "name": "lab02.ipynb",
      "provenance": []
    }
  },
  "cells": [
    {
      "cell_type": "markdown",
      "metadata": {
        "id": "ofic1PSmTzfC"
      },
      "source": [
        "#Init"
      ]
    },
    {
      "cell_type": "code",
      "metadata": {
        "id": "VfLB0OjxTzSX"
      },
      "source": [
        "import tensorflow as tf"
      ],
      "execution_count": 2,
      "outputs": []
    },
    {
      "cell_type": "markdown",
      "metadata": {
        "id": "9D5dAXyMTsGk"
      },
      "source": [
        "#Build hypothesis and cost"
      ]
    },
    {
      "cell_type": "code",
      "metadata": {
        "collapsed": true,
        "pycharm": {
          "name": "#%%\n"
        },
        "colab": {
          "base_uri": "https://localhost:8080/"
        },
        "id": "ax7kt5VJTe25",
        "outputId": "b120d640-c1cd-462e-b562-0d8daba6a717"
      },
      "source": [
        "x_data = [1, 2, 3, 4, 5]\n",
        "y_data = [1, 2, 3, 4, 5]\n",
        "\n",
        "W = tf.Variable(2.9)\n",
        "b = tf.Variable(0.5)\n",
        "\n",
        "hypothesis = W * x_data + b\n",
        "\n",
        "hypothesis"
      ],
      "execution_count": 14,
      "outputs": [
        {
          "output_type": "execute_result",
          "data": {
            "text/plain": [
              "<tf.Tensor: shape=(5,), dtype=float32, numpy=\n",
              "array([ 3.4     ,  6.3     ,  9.200001, 12.1     , 15.      ],\n",
              "      dtype=float32)>"
            ]
          },
          "metadata": {
            "tags": []
          },
          "execution_count": 14
        }
      ]
    },
    {
      "cell_type": "code",
      "metadata": {
        "colab": {
          "base_uri": "https://localhost:8080/"
        },
        "id": "C2YoJvX0UO_2",
        "outputId": "13ec3b63-4ded-4fc0-98f2-ebde67cbd131"
      },
      "source": [
        "tf.square(hypothesis - y_data)"
      ],
      "execution_count": 6,
      "outputs": [
        {
          "output_type": "execute_result",
          "data": {
            "text/plain": [
              "<tf.Tensor: shape=(5,), dtype=float32, numpy=\n",
              "array([  5.76    ,  18.490002,  38.44001 ,  65.61001 , 100.      ],\n",
              "      dtype=float32)>"
            ]
          },
          "metadata": {
            "tags": []
          },
          "execution_count": 6
        }
      ]
    },
    {
      "cell_type": "code",
      "metadata": {
        "colab": {
          "base_uri": "https://localhost:8080/"
        },
        "id": "lQjJfpVyTg0v",
        "outputId": "9517594f-0592-4bb6-c115-446957adf1c3"
      },
      "source": [
        "cost = tf.reduce_mean(tf.square(hypothesis - y_data))\n",
        "cost"
      ],
      "execution_count": 5,
      "outputs": [
        {
          "output_type": "execute_result",
          "data": {
            "text/plain": [
              "<tf.Tensor: shape=(), dtype=float32, numpy=45.660004>"
            ]
          },
          "metadata": {
            "tags": []
          },
          "execution_count": 5
        }
      ]
    },
    {
      "cell_type": "markdown",
      "metadata": {
        "id": "KtDK6pHZY4qN"
      },
      "source": [
        "#Gradient descent"
      ]
    },
    {
      "cell_type": "code",
      "metadata": {
        "colab": {
          "base_uri": "https://localhost:8080/"
        },
        "id": "pyw3ZuH2Y4Mq",
        "outputId": "9a48495b-9b49-4ff3-8f93-d542d2fe24a7"
      },
      "source": [
        "learning_rate = 0.001\n",
        "\n",
        "with tf.GradientTape() as tape:\n",
        "  hypothesis = W * x_data + b\n",
        "  print(hypothesis)\n",
        "\n",
        "  cost = tf.reduce_mean(tf.square(hypothesis - y_data))\n",
        "  print(cost)\n",
        "\n",
        "W_grad, b_grad = tape.gradient(cost, [W, b])\n",
        "print(W_grad, b_grad)\n",
        "\n",
        "# A.assign_sub(B) => A -= B\n",
        "W.assign_sub(learning_rate * W_grad)\n",
        "b.assign_sub(learning_rate * b_grad)\n",
        "\n",
        "W, b"
      ],
      "execution_count": 29,
      "outputs": [
        {
          "output_type": "stream",
          "text": [
            "tf.Tensor([ -3403933.2  -6069537.   -8735140.  -11400744.  -14066348. ], shape=(5,), dtype=float32)\n",
            "tf.Tensor(90513626000000.0, shape=(), dtype=float32)\n",
            "tf.Tensor(-63073284.0, shape=(), dtype=float32) tf.Tensor(-17470288.0, shape=(), dtype=float32)\n"
          ],
          "name": "stdout"
        },
        {
          "output_type": "execute_result",
          "data": {
            "text/plain": [
              "(<tf.Variable 'Variable:0' shape=() dtype=float32, numpy=-2602530.2>,\n",
              " <tf.Variable 'Variable:0' shape=() dtype=float32, numpy=-720859.44>)"
            ]
          },
          "metadata": {
            "tags": []
          },
          "execution_count": 29
        }
      ]
    },
    {
      "cell_type": "code",
      "metadata": {
        "colab": {
          "base_uri": "https://localhost:8080/"
        },
        "id": "xbapJ6JpUJA0",
        "outputId": "18c6928b-41ff-44de-d8db-eb1aee67ee89"
      },
      "source": [
        "W = tf.Variable(2.9)\n",
        "b = tf.Variable(0.5)\n",
        "\n",
        "for i in range(1000):\n",
        "  with tf.GradientTape() as tape:\n",
        "    hypothesis = W * x_data + b\n",
        "    cost = tf.reduce_mean(tf.square(hypothesis - y_data))\n",
        "\n",
        "  W_grad, b_grad = tape.gradient(cost, [W, b])\n",
        "\n",
        "  W.assign_sub(learning_rate * W_grad)\n",
        "  b.assign_sub(learning_rate * b_grad)\n",
        "\n",
        "  if i % 10 == 0:\n",
        "    print(\"{:5}|{:10.4}|{:10.4}|{:10.6f}\".format(i, W.numpy(), b.numpy(), cost))"
      ],
      "execution_count": 31,
      "outputs": [
        {
          "output_type": "stream",
          "text": [
            "    0|     2.855|    0.4876| 45.660004\n",
            "   10|     2.462|    0.3787| 28.284033\n",
            "   20|     2.152|    0.2929| 17.520519\n",
            "   30|     1.908|    0.2255| 10.853079\n",
            "   40|     1.716|    0.1724|  6.722954\n",
            "   50|     1.565|    0.1306|  4.164561\n",
            "   60|     1.446|    0.0978|  2.579767\n",
            "   70|     1.352|   0.07196|  1.598069\n",
            "   80|     1.279|   0.05165|  0.989959\n",
            "   90|     1.221|   0.03567|  0.613266\n",
            "  100|     1.175|   0.02312|  0.379924\n",
            "  110|     1.139|   0.01325|  0.235381\n",
            "  120|     1.111|  0.005506|  0.145844\n",
            "  130|     1.089|-0.0005743|  0.090380\n",
            "  140|     1.071| -0.005344|  0.056023\n",
            "  150|     1.057| -0.009081|  0.034740\n",
            "  160|     1.046|  -0.01201|  0.021556\n",
            "  170|     1.038|  -0.01429|  0.013389\n",
            "  180|     1.031|  -0.01607|  0.008330\n",
            "  190|     1.026|  -0.01746|  0.005196\n",
            "  200|     1.022|  -0.01854|  0.003254\n",
            "  210|     1.018|  -0.01937|  0.002051\n",
            "  220|     1.016|     -0.02|  0.001306\n",
            "  230|     1.014|  -0.02049|  0.000844\n",
            "  240|     1.012|  -0.02085|  0.000557\n",
            "  250|     1.011|  -0.02113|  0.000380\n",
            "  260|      1.01|  -0.02132|  0.000269\n",
            "  270|     1.009|  -0.02146|  0.000201\n",
            "  280|     1.008|  -0.02156|  0.000158\n",
            "  290|     1.008|  -0.02162|  0.000131\n",
            "  300|     1.008|  -0.02165|  0.000115\n",
            "  310|     1.007|  -0.02166|  0.000104\n",
            "  320|     1.007|  -0.02165|  0.000097\n",
            "  330|     1.007|  -0.02162|  0.000093\n",
            "  340|     1.007|  -0.02159|  0.000090\n",
            "  350|     1.006|  -0.02155|  0.000088\n",
            "  360|     1.006|   -0.0215|  0.000086\n",
            "  370|     1.006|  -0.02145|  0.000085\n",
            "  380|     1.006|  -0.02139|  0.000084\n",
            "  390|     1.006|  -0.02133|  0.000084\n",
            "  400|     1.006|  -0.02127|  0.000083\n",
            "  410|     1.006|   -0.0212|  0.000082\n",
            "  420|     1.006|  -0.02114|  0.000082\n",
            "  430|     1.006|  -0.02107|  0.000081\n",
            "  440|     1.006|    -0.021|  0.000080\n",
            "  450|     1.006|  -0.02094|  0.000080\n",
            "  460|     1.006|  -0.02087|  0.000079\n",
            "  470|     1.006|   -0.0208|  0.000079\n",
            "  480|     1.006|  -0.02073|  0.000078\n",
            "  490|     1.006|  -0.02066|  0.000078\n",
            "  500|     1.006|  -0.02059|  0.000077\n",
            "  510|     1.006|  -0.02052|  0.000077\n",
            "  520|     1.006|  -0.02045|  0.000076\n",
            "  530|     1.006|  -0.02039|  0.000076\n",
            "  540|     1.006|  -0.02032|  0.000075\n",
            "  550|     1.006|  -0.02025|  0.000075\n",
            "  560|     1.006|  -0.02018|  0.000074\n",
            "  570|     1.006|  -0.02011|  0.000074\n",
            "  580|     1.006|  -0.02005|  0.000073\n",
            "  590|     1.006|  -0.01998|  0.000073\n",
            "  600|     1.006|  -0.01991|  0.000072\n",
            "  610|     1.005|  -0.01984|  0.000072\n",
            "  620|     1.005|  -0.01978|  0.000071\n",
            "  630|     1.005|  -0.01971|  0.000071\n",
            "  640|     1.005|  -0.01964|  0.000070\n",
            "  650|     1.005|  -0.01958|  0.000070\n",
            "  660|     1.005|  -0.01951|  0.000069\n",
            "  670|     1.005|  -0.01944|  0.000069\n",
            "  680|     1.005|  -0.01938|  0.000068\n",
            "  690|     1.005|  -0.01931|  0.000068\n",
            "  700|     1.005|  -0.01925|  0.000067\n",
            "  710|     1.005|  -0.01918|  0.000067\n",
            "  720|     1.005|  -0.01912|  0.000067\n",
            "  730|     1.005|  -0.01906|  0.000066\n",
            "  740|     1.005|  -0.01899|  0.000066\n",
            "  750|     1.005|  -0.01893|  0.000065\n",
            "  760|     1.005|  -0.01886|  0.000065\n",
            "  770|     1.005|   -0.0188|  0.000064\n",
            "  780|     1.005|  -0.01874|  0.000064\n",
            "  790|     1.005|  -0.01867|  0.000064\n",
            "  800|     1.005|  -0.01861|  0.000063\n",
            "  810|     1.005|  -0.01855|  0.000063\n",
            "  820|     1.005|  -0.01848|  0.000062\n",
            "  830|     1.005|  -0.01842|  0.000062\n",
            "  840|     1.005|  -0.01836|  0.000061\n",
            "  850|     1.005|   -0.0183|  0.000061\n",
            "  860|     1.005|  -0.01824|  0.000061\n",
            "  870|     1.005|  -0.01817|  0.000060\n",
            "  880|     1.005|  -0.01811|  0.000060\n",
            "  890|     1.005|  -0.01805|  0.000059\n",
            "  900|     1.005|  -0.01799|  0.000059\n",
            "  910|     1.005|  -0.01793|  0.000059\n",
            "  920|     1.005|  -0.01787|  0.000058\n",
            "  930|     1.005|  -0.01781|  0.000058\n",
            "  940|     1.005|  -0.01775|  0.000057\n",
            "  950|     1.005|  -0.01769|  0.000057\n",
            "  960|     1.005|  -0.01763|  0.000057\n",
            "  970|     1.005|  -0.01757|  0.000056\n",
            "  980|     1.005|  -0.01751|  0.000056\n",
            "  990|     1.005|  -0.01745|  0.000055\n"
          ],
          "name": "stdout"
        }
      ]
    },
    {
      "cell_type": "code",
      "metadata": {
        "id": "L8a44r1eYwiC"
      },
      "source": [
        ""
      ],
      "execution_count": null,
      "outputs": []
    }
  ]
}