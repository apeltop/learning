{
  "nbformat": 4,
  "nbformat_minor": 0,
  "metadata": {
    "colab": {
      "name": "lab06-1.ipynb",
      "provenance": []
    },
    "kernelspec": {
      "name": "python3",
      "display_name": "Python 3"
    }
  },
  "cells": [
    {
      "cell_type": "markdown",
      "metadata": {
        "id": "5NIeVDhL73Li"
      },
      "source": [
        "#Init"
      ]
    },
    {
      "cell_type": "code",
      "metadata": {
        "id": "XJO6DX1h7zEw"
      },
      "source": [
        "import matplotlib.pyplot as plt\n",
        "import numpy as np\n",
        "import tensorflow as tf\n",
        "import matplotlib.pyplot as plt\n"
      ],
      "execution_count": 10,
      "outputs": []
    },
    {
      "cell_type": "code",
      "metadata": {
        "id": "ngd1Ok-08Bun"
      },
      "source": [
        "x_data = [[1, 2, 1, 1],\n",
        "          [2, 1, 3, 2],\n",
        "          [3, 1, 3, 4],\n",
        "          [4, 1, 5, 5],\n",
        "          [1, 7, 5, 5],\n",
        "          [1, 2, 5, 6],\n",
        "          [1, 6, 6, 6],\n",
        "          [1, 7, 7, 7]]\n",
        "y_data = [[0, 0, 1],\n",
        "          [0, 0, 1],\n",
        "          [0, 0, 1],\n",
        "          [0, 1, 0],\n",
        "          [0, 1, 0],\n",
        "          [0, 1, 0],\n",
        "          [1, 0, 0],\n",
        "          [1, 0, 0]]"
      ],
      "execution_count": 11,
      "outputs": []
    },
    {
      "cell_type": "code",
      "metadata": {
        "id": "Fxn6csve8Dg1"
      },
      "source": [
        "x_data = np.asarray(x_data, dtype=np.float32)\n",
        "y_data = np.asarray(y_data, dtype=np.float32)\n",
        "\n",
        "nb_classes = 3"
      ],
      "execution_count": 12,
      "outputs": []
    },
    {
      "cell_type": "code",
      "metadata": {
        "colab": {
          "base_uri": "https://localhost:8080/"
        },
        "id": "CDT37ZqO8jp0",
        "outputId": "42c075e3-9a96-48a5-df0c-6b973fcca6cb"
      },
      "source": [
        "W = tf.Variable(tf.random.normal([4, nb_classes]), name='weight')\n",
        "b = tf.Variable(tf.random.normal([nb_classes]), name='bias')\n",
        "\n",
        "variables = [W, b]\n",
        "variables"
      ],
      "execution_count": 13,
      "outputs": [
        {
          "output_type": "execute_result",
          "data": {
            "text/plain": [
              "[<tf.Variable 'weight:0' shape=(4, 3) dtype=float32, numpy=\n",
              " array([[ 0.5042709 , -0.5445337 , -0.6094761 ],\n",
              "        [-0.37576157, -0.4226177 ,  0.6547103 ],\n",
              "        [ 0.01105409,  0.8888413 , -0.0913555 ],\n",
              "        [-0.48007274, -1.5596874 , -1.2194515 ]], dtype=float32)>,\n",
              " <tf.Variable 'bias:0' shape=(3,) dtype=float32, numpy=array([ 1.475458  , -0.76861066,  2.5081992 ], dtype=float32)>]"
            ]
          },
          "metadata": {
            "tags": []
          },
          "execution_count": 13
        }
      ]
    },
    {
      "cell_type": "code",
      "metadata": {
        "colab": {
          "base_uri": "https://localhost:8080/"
        },
        "id": "lp9hE1isE4-L",
        "outputId": "7c8a5224-d9eb-4e7d-833e-270ae32f6788"
      },
      "source": [
        "def hypothesis(X):\n",
        "    return tf.nn.softmax(tf.matmul(X, W) + b)\n",
        "\n",
        "print(hypothesis(x_data))"
      ],
      "execution_count": 14,
      "outputs": [
        {
          "output_type": "stream",
          "text": [
            "tf.Tensor(\n",
            "[[2.4104345e-01 6.6629630e-03 7.5229365e-01]\n",
            " [8.6044562e-01 1.7168025e-02 1.2238637e-01]\n",
            " [9.8867899e-01 7.9766562e-04 1.0523364e-02]\n",
            " [9.9808854e-01 5.5463827e-04 1.3567952e-03]\n",
            " [5.0985649e-02 4.9735128e-04 9.4851708e-01]\n",
            " [9.4735086e-01 3.9682770e-03 4.8680872e-02]\n",
            " [2.5845572e-01 2.1592260e-03 7.3938507e-01]\n",
            " [2.2414684e-01 1.4603006e-03 7.7439290e-01]], shape=(8, 3), dtype=float32)\n"
          ],
          "name": "stdout"
        }
      ]
    },
    {
      "cell_type": "code",
      "metadata": {
        "colab": {
          "base_uri": "https://localhost:8080/"
        },
        "id": "yPFFB6Xd9cAp",
        "outputId": "18309655-6dae-4755-cea3-643721767514"
      },
      "source": [
        "sample_db = [[8,2,1,4]]\n",
        "sample_db = np.asarray(sample_db, dtype=np.float32)\n",
        "\n",
        "print(hypothesis(sample_db))"
      ],
      "execution_count": 15,
      "outputs": [
        {
          "output_type": "stream",
          "text": [
            "tf.Tensor([[9.9985957e-01 7.0221205e-07 1.3965195e-04]], shape=(1, 3), dtype=float32)\n"
          ],
          "name": "stdout"
        }
      ]
    },
    {
      "cell_type": "code",
      "metadata": {
        "colab": {
          "base_uri": "https://localhost:8080/"
        },
        "id": "x-0bYSASEx1v",
        "outputId": "9a3ddd4e-f930-4b69-bf29-2ed537f7da29"
      },
      "source": [
        "def cost_fn(X, Y):\n",
        "    logits = hypothesis(X)\n",
        "    cost = -tf.reduce_sum(Y * tf.math.log(logits), axis=1)\n",
        "    cost_mean = tf.reduce_mean(cost)\n",
        "    \n",
        "    return cost_mean\n",
        "\n",
        "print(cost_fn(x_data, y_data))"
      ],
      "execution_count": 16,
      "outputs": [
        {
          "output_type": "stream",
          "text": [
            "tf.Tensor(3.8025842, shape=(), dtype=float32)\n"
          ],
          "name": "stdout"
        }
      ]
    },
    {
      "cell_type": "code",
      "metadata": {
        "colab": {
          "base_uri": "https://localhost:8080/"
        },
        "id": "1aWIdgDdFHj9",
        "outputId": "c826839b-fd5b-4945-fefb-e6853ced441c"
      },
      "source": [
        "x = tf.constant(3.0)\n",
        "with tf.GradientTape() as g:\n",
        "    g.watch(x)\n",
        "    y = x * x # x^2\n",
        "dy_dx = g.gradient(y, x) # Will compute to 6.0\n",
        "print(dy_dx)"
      ],
      "execution_count": 17,
      "outputs": [
        {
          "output_type": "stream",
          "text": [
            "tf.Tensor(6.0, shape=(), dtype=float32)\n"
          ],
          "name": "stdout"
        }
      ]
    },
    {
      "cell_type": "markdown",
      "metadata": {
        "id": "Dv9G5Pa_FWtl"
      },
      "source": [
        "##Gradient Function"
      ]
    },
    {
      "cell_type": "code",
      "metadata": {
        "colab": {
          "base_uri": "https://localhost:8080/"
        },
        "id": "Yv97vQMaFeNE",
        "outputId": "9406a0a5-8ebb-4151-a114-3a66daf3a453"
      },
      "source": [
        "def grad_fn(X, Y):\n",
        "    with tf.GradientTape() as tape:\n",
        "        loss = cost_fn(X, Y)\n",
        "        grads = tape.gradient(loss, variables)\n",
        "\n",
        "        return grads\n",
        "\n",
        "print(grad_fn(x_data, y_data))"
      ],
      "execution_count": 18,
      "outputs": [
        {
          "output_type": "stream",
          "text": [
            "[<tf.Tensor: shape=(4, 3), dtype=float32, numpy=\n",
            "array([[ 1.0501581 , -0.74328804, -0.30687007],\n",
            "       [-0.537417  , -1.2416947 ,  1.7791119 ],\n",
            "       [ 0.7362882 , -1.8613951 ,  1.125107  ],\n",
            "       [ 0.8707362 , -1.9879453 ,  1.1172093 ]], dtype=float32)>, <tf.Tensor: shape=(3,), dtype=float32, numpy=array([ 0.32114947, -0.37084144,  0.04969201], dtype=float32)>]\n"
          ],
          "name": "stdout"
        }
      ]
    },
    {
      "cell_type": "code",
      "metadata": {
        "colab": {
          "base_uri": "https://localhost:8080/"
        },
        "id": "oDUsWaR0FeZC",
        "outputId": "02932cdc-51ce-448f-e1a5-c6ba04b65f18"
      },
      "source": [
        "def fit(X, Y, epochs=2000, verbose=100):\n",
        "    optimizer =  tf.keras.optimizers.SGD(learning_rate=0.1)\n",
        "\n",
        "    for i in range(epochs):\n",
        "        grads = grad_fn(X, Y)\n",
        "        optimizer.apply_gradients(zip(grads, variables))\n",
        "        if (i==0) | ((i+1)%verbose==0):\n",
        "            print('Loss at epoch %d: %f' %(i+1, cost_fn(X, Y).numpy()))\n",
        "            \n",
        "fit(x_data, y_data)"
      ],
      "execution_count": 19,
      "outputs": [
        {
          "output_type": "stream",
          "text": [
            "Loss at epoch 1: 2.188940\n",
            "Loss at epoch 100: 0.647073\n",
            "Loss at epoch 200: 0.573649\n",
            "Loss at epoch 300: 0.522209\n",
            "Loss at epoch 400: 0.479337\n",
            "Loss at epoch 500: 0.441097\n",
            "Loss at epoch 600: 0.405656\n",
            "Loss at epoch 700: 0.371765\n",
            "Loss at epoch 800: 0.338333\n",
            "Loss at epoch 900: 0.304333\n",
            "Loss at epoch 1000: 0.269077\n",
            "Loss at epoch 1100: 0.236079\n",
            "Loss at epoch 1200: 0.221018\n",
            "Loss at epoch 1300: 0.210778\n",
            "Loss at epoch 1400: 0.201408\n",
            "Loss at epoch 1500: 0.192804\n",
            "Loss at epoch 1600: 0.184878\n",
            "Loss at epoch 1700: 0.177554\n",
            "Loss at epoch 1800: 0.170768\n",
            "Loss at epoch 1900: 0.164465\n",
            "Loss at epoch 2000: 0.158594\n"
          ],
          "name": "stdout"
        }
      ]
    },
    {
      "cell_type": "markdown",
      "metadata": {
        "id": "j6htlqD-Fn9L"
      },
      "source": [
        "#Prediction"
      ]
    },
    {
      "cell_type": "code",
      "metadata": {
        "colab": {
          "base_uri": "https://localhost:8080/"
        },
        "id": "2IDkY_yUFg2j",
        "outputId": "3e1d3544-c89d-4929-caa0-8bc9199b018b"
      },
      "source": [
        "sample_data = [[2,1,3,2]] # answer_label [[0,0,1]]\n",
        "sample_data = np.asarray(sample_data, dtype=np.float32)\n",
        "\n",
        "a = hypothesis(sample_data)\n",
        "\n",
        "print(a)\n",
        "print(tf.argmax(a, 1)) #index: 2"
      ],
      "execution_count": 20,
      "outputs": [
        {
          "output_type": "stream",
          "text": [
            "tf.Tensor([[6.954472e-04 7.420425e-02 9.251003e-01]], shape=(1, 3), dtype=float32)\n",
            "tf.Tensor([2], shape=(1,), dtype=int64)\n"
          ],
          "name": "stdout"
        }
      ]
    },
    {
      "cell_type": "code",
      "metadata": {
        "colab": {
          "base_uri": "https://localhost:8080/"
        },
        "id": "E7YM5aKDFqfX",
        "outputId": "7b7a6d2a-8153-4165-b1ba-46c614b20275"
      },
      "source": [
        "b = hypothesis(x_data)\n",
        "print(b)\n",
        "print(tf.argmax(b, 1))\n",
        "print(tf.argmax(y_data, 1)) # matches with y_data"
      ],
      "execution_count": 21,
      "outputs": [
        {
          "output_type": "stream",
          "text": [
            "tf.Tensor(\n",
            "[[4.4474009e-06 1.5241416e-03 9.9847144e-01]\n",
            " [6.9544686e-04 7.4204251e-02 9.2510033e-01]\n",
            " [3.3884401e-08 1.5877879e-01 8.4122115e-01]\n",
            " [4.0270058e-07 8.5805970e-01 1.4193989e-01]\n",
            " [2.6668507e-01 7.2196531e-01 1.1349678e-02]\n",
            " [1.4112115e-01 8.5857397e-01 3.0475788e-04]\n",
            " [7.4387211e-01 2.5603536e-01 9.2472692e-05]\n",
            " [9.1462535e-01 8.5372828e-02 1.9068535e-06]], shape=(8, 3), dtype=float32)\n",
            "tf.Tensor([2 2 2 1 1 1 0 0], shape=(8,), dtype=int64)\n",
            "tf.Tensor([2 2 2 1 1 1 0 0], shape=(8,), dtype=int64)\n"
          ],
          "name": "stdout"
        }
      ]
    },
    {
      "cell_type": "code",
      "metadata": {
        "id": "SpVRndymFwPF"
      },
      "source": [
        ""
      ],
      "execution_count": null,
      "outputs": []
    }
  ]
}