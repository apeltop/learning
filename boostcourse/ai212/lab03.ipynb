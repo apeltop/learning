{
  "nbformat": 4,
  "nbformat_minor": 0,
  "metadata": {
    "colab": {
      "name": "lab03.ipynb",
      "provenance": []
    },
    "kernelspec": {
      "name": "python3",
      "display_name": "Python 3"
    }
  },
  "cells": [
    {
      "cell_type": "markdown",
      "metadata": {
        "id": "5NIeVDhL73Li"
      },
      "source": [
        "#Init"
      ]
    },
    {
      "cell_type": "code",
      "metadata": {
        "id": "XJO6DX1h7zEw"
      },
      "source": [
        "import matplotlib.pyplot as plt\n",
        "import numpy as np\n",
        "import tensorflow as tf"
      ],
      "execution_count": 47,
      "outputs": []
    },
    {
      "cell_type": "markdown",
      "metadata": {
        "id": "6IBZfxBP7556"
      },
      "source": [
        "#Cost function in pure Python"
      ]
    },
    {
      "cell_type": "markdown",
      "metadata": {
        "id": "YDmECBZaAfEK"
      },
      "source": [
        "$$cost(W) = \\frac{1}{m}\\sum_{i=1}^{m}(Wx_i - y_i)^2$$"
      ]
    },
    {
      "cell_type": "code",
      "metadata": {
        "colab": {
          "base_uri": "https://localhost:8080/"
        },
        "id": "Da5XzyKj75S_",
        "outputId": "7c886992-8ce3-46d5-ac14-6b16d951b19d"
      },
      "source": [
        "X = np.array([1, 2, 3])\n",
        "Y = np.array([1, 2, 3])\n",
        "\n",
        "def cost_func(W, X, Y):\n",
        "  c = 0\n",
        "  for i in range(len(X)):\n",
        "    c += (W * X[i] - Y[i]) ** 2\n",
        "  return c / len(X)\n",
        "\n",
        "history = np.array(np.empty((1, 2)))\n",
        "for feed_W in np.linspace(-3, 5, num=15):\n",
        "  curr_cost = cost_func(feed_W, X, Y)\n",
        "  history = np.vstack([history, [feed_W, curr_cost]])\n",
        "  print(\"{:6.3f} | {:10.5f}\".format(feed_W, curr_cost))"
      ],
      "execution_count": 40,
      "outputs": [
        {
          "output_type": "stream",
          "text": [
            "-3.000 |   74.66667\n",
            "-2.429 |   54.85714\n",
            "-1.857 |   38.09524\n",
            "-1.286 |   24.38095\n",
            "-0.714 |   13.71429\n",
            "-0.143 |    6.09524\n",
            " 0.429 |    1.52381\n",
            " 1.000 |    0.00000\n",
            " 1.571 |    1.52381\n",
            " 2.143 |    6.09524\n",
            " 2.714 |   13.71429\n",
            " 3.286 |   24.38095\n",
            " 3.857 |   38.09524\n",
            " 4.429 |   54.85714\n",
            " 5.000 |   74.66667\n"
          ],
          "name": "stdout"
        }
      ]
    },
    {
      "cell_type": "code",
      "metadata": {
        "colab": {
          "base_uri": "https://localhost:8080/",
          "height": 265
        },
        "id": "Fhr7gTp08Q4l",
        "outputId": "e5ff5207-e32f-4d3a-9863-974655e12fc3"
      },
      "source": [
        "plt.stem(history[:, 0], history[:, 1], use_line_collection=True)\n",
        "plt.show()"
      ],
      "execution_count": 46,
      "outputs": [
        {
          "output_type": "display_data",
          "data": {
            "image/png": "[encoded data removed]",
            "text/plain": [
              "<Figure size 432x288 with 1 Axes>"
            ]
          },
          "metadata": {
            "tags": [],
            "needs_background": "light"
          }
        }
      ]
    },
    {
      "cell_type": "markdown",
      "metadata": {
        "id": "S0oGhGgPE-M9"
      },
      "source": [
        "#Cost function in TensorFlow"
      ]
    },
    {
      "cell_type": "code",
      "metadata": {
        "colab": {
          "base_uri": "https://localhost:8080/"
        },
        "id": "Nu8M87AcCTXs",
        "outputId": "0d581009-2bfc-45c4-b460-dceb22d51561"
      },
      "source": [
        "X = np.array([1, 2, 3])\n",
        "Y = np.array([1, 2, 3])\n",
        "\n",
        "def cost_func(W, X, Y):\n",
        "  hypothesis = X * W\n",
        "  return tf.reduce_mean(tf.square(hypothesis - Y))\n",
        "\n",
        "W_values = np.linspace(-3, 5, num=15)\n",
        "cost_values = []\n",
        "\n",
        "for feed_W in W_values:\n",
        "  curr_cost = cost_func(feed_W, X, Y)\n",
        "  cost_values.append(curr_cost)\n",
        "  print(\"{:6.3f} | {:10.5f}\".format(feed_W, curr_cost))"
      ],
      "execution_count": 48,
      "outputs": [
        {
          "output_type": "stream",
          "text": [
            "-3.000 |   74.66667\n",
            "-2.429 |   54.85714\n",
            "-1.857 |   38.09524\n",
            "-1.286 |   24.38095\n",
            "-0.714 |   13.71429\n",
            "-0.143 |    6.09524\n",
            " 0.429 |    1.52381\n",
            " 1.000 |    0.00000\n",
            " 1.571 |    1.52381\n",
            " 2.143 |    6.09524\n",
            " 2.714 |   13.71429\n",
            " 3.286 |   24.38095\n",
            " 3.857 |   38.09524\n",
            " 4.429 |   54.85714\n",
            " 5.000 |   74.66667\n"
          ],
          "name": "stdout"
        }
      ]
    },
    {
      "cell_type": "markdown",
      "metadata": {
        "id": "R8y-CzNmJmh4"
      },
      "source": [
        "#Gradient descent"
      ]
    },
    {
      "cell_type": "markdown",
      "metadata": {
        "id": "Hw-PLg3jJoMG"
      },
      "source": [
        "$$cost(W) = \\frac{1}{m}\\sum_{i=1}^{m}(Wx_i - y_i)^2$$\n",
        "$$W := W - {\\alpha}\\frac{1}{m}\\sum_{i=1}^{m}(W(x_i) - y_i)x_i$$"
      ]
    },
    {
      "cell_type": "code",
      "metadata": {
        "id": "qoaDlqcLJmX3"
      },
      "source": [
        "alpha = 0.01\n",
        "gradient = tf.reduce_mean(tf.multiply(tf.multiply(W, X) - Y, X))\n",
        "descent = W - tf.multiply(alpah, gradient)\n",
        "W.assign(descent)"
      ],
      "execution_count": null,
      "outputs": []
    },
    {
      "cell_type": "code",
      "metadata": {
        "colab": {
          "base_uri": "https://localhost:8080/"
        },
        "id": "gi-GmYrICgRK",
        "outputId": "4f963d46-73d9-441c-9309-1fc264a2c370"
      },
      "source": [
        "tf.random.set_seed(0)\n",
        "\n",
        "x_data = [1., 2., 3., 4.]\n",
        "y_data = [1., 3., 5., 7.]\n",
        "\n",
        "W = tf.Variable(tf.random.normal([1], -100., 100.))\n",
        "\n",
        "history = np.array(np.empty((1, 2)))\n",
        "\n",
        "for step in range(300):\n",
        "  hypothesis = W * X\n",
        "  cost = tf.reduce_mean(tf.square(hypothesis - Y))\n",
        "\n",
        "  alpha = 0.01\n",
        "  gradient = tf.reduce_mean(tf.multiply(tf.multiply(W, X) - Y, X))\n",
        "  descent = W - tf.multiply(alpha, gradient)\n",
        "  W.assign(descent)\n",
        "\n",
        "  history = np.vstack([history, [step, W]])\n",
        "\n",
        "  if step % 10 == 0:\n",
        "    print('{:5} | {:10.4f} | {:10.6}'.format(step, cost.numpy(), W.numpy()[0]))"
      ],
      "execution_count": 54,
      "outputs": [
        {
          "output_type": "stream",
          "text": [
            "    0 | 11716.3086 |     48.768\n",
            "   10 |  4504.9126 |      30.62\n",
            "   20 |  1732.1364 |    19.3668\n",
            "   30 |   666.0052 |    12.3889\n",
            "   40 |   256.0785 |      8.062\n",
            "   50 |    98.4620 |    5.37901\n",
            "   60 |    37.8586 |    3.71534\n",
            "   70 |    14.5566 |    2.68373\n",
            "   80 |     5.5970 |    2.04404\n",
            "   90 |     2.1520 |    1.64739\n",
            "  100 |     0.8275 |    1.40143\n",
            "  110 |     0.3182 |    1.24892\n",
            "  120 |     0.1223 |    1.15435\n",
            "  130 |     0.0470 |    1.09571\n",
            "  140 |     0.0181 |    1.05935\n",
            "  150 |     0.0070 |     1.0368\n",
            "  160 |     0.0027 |    1.02282\n",
            "  170 |     0.0010 |    1.01415\n",
            "  180 |     0.0004 |    1.00877\n",
            "  190 |     0.0002 |    1.00544\n",
            "  200 |     0.0001 |    1.00337\n",
            "  210 |     0.0000 |    1.00209\n",
            "  220 |     0.0000 |     1.0013\n",
            "  230 |     0.0000 |     1.0008\n",
            "  240 |     0.0000 |     1.0005\n",
            "  250 |     0.0000 |    1.00031\n",
            "  260 |     0.0000 |    1.00019\n",
            "  270 |     0.0000 |    1.00012\n",
            "  280 |     0.0000 |    1.00007\n",
            "  290 |     0.0000 |    1.00005\n"
          ],
          "name": "stdout"
        }
      ]
    },
    {
      "cell_type": "code",
      "metadata": {
        "colab": {
          "base_uri": "https://localhost:8080/",
          "height": 265
        },
        "id": "U62zSmYsCh9Q",
        "outputId": "bd52102d-146c-48bf-9a12-4c59c4917431"
      },
      "source": [
        "plt.stem(history[:, 0], history[:, 1], use_line_collection=True)\n",
        "plt.show()"
      ],
      "execution_count": 55,
      "outputs": [
        {
          "output_type": "display_data",
          "data": {
            "image/png": "[encoded data removed]",
            "text/plain": [
              "<Figure size 432x288 with 1 Axes>"
            ]
          },
          "metadata": {
            "tags": [],
            "needs_background": "light"
          }
        }
      ]
    },
    {
      "cell_type": "code",
      "metadata": {
        "id": "gt6RrPvIL8_3"
      },
      "source": [
        ""
      ],
      "execution_count": null,
      "outputs": []
    }
  ]
}