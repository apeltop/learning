{
  "nbformat": 4,
  "nbformat_minor": 0,
  "metadata": {
    "colab": {
      "name": "lab04.ipynb",
      "provenance": []
    },
    "kernelspec": {
      "name": "python3",
      "display_name": "Python 3"
    }
  },
  "cells": [
    {
      "cell_type": "markdown",
      "metadata": {
        "id": "5NIeVDhL73Li"
      },
      "source": [
        "#Init"
      ]
    },
    {
      "cell_type": "code",
      "metadata": {
        "id": "XJO6DX1h7zEw"
      },
      "source": [
        "import matplotlib.pyplot as plt\n",
        "import numpy as np\n",
        "import tensorflow as tf"
      ],
      "execution_count": 80,
      "outputs": []
    },
    {
      "cell_type": "markdown",
      "metadata": {
        "id": "6IBZfxBP7556"
      },
      "source": [
        "#Hyptothesis using martrix"
      ]
    },
    {
      "cell_type": "markdown",
      "metadata": {
        "id": "YDmECBZaAfEK"
      },
      "source": [
        "$$H(x_1, x_2, x_3) = w_1x_1 + w_2x_2 + w_3x_3$$"
      ]
    },
    {
      "cell_type": "code",
      "metadata": {
        "colab": {
          "base_uri": "https://localhost:8080/"
        },
        "id": "Da5XzyKj75S_",
        "outputId": "75a057d5-352f-4cd0-fd47-609ab898f672"
      },
      "source": [
        "x1 = [73., 93., 89., 96., 73.]\n",
        "x2 = [80., 88., 91., 98., 66.]\n",
        "x3 = [75., 93., 90., 100., 70.]\n",
        "Y = [152., 185., 180., 196., 142.]\n",
        "\n",
        "w1= tf.Variable(10.)\n",
        "w2= tf.Variable(10.)\n",
        "w3= tf.Variable(10.)\n",
        "b= tf.Variable(10.)\n",
        "\n",
        "hypothesis = w1 * x1 + w2 * x2 + w3 * x3 + b\n",
        "hypothesis"
      ],
      "execution_count": 81,
      "outputs": [
        {
          "output_type": "execute_result",
          "data": {
            "text/plain": [
              "<tf.Tensor: shape=(5,), dtype=float32, numpy=array([2290., 2750., 2710., 2950., 2100.], dtype=float32)>"
            ]
          },
          "metadata": {
            "tags": []
          },
          "execution_count": 81
        }
      ]
    },
    {
      "cell_type": "code",
      "metadata": {
        "colab": {
          "base_uri": "https://localhost:8080/"
        },
        "id": "Fhr7gTp08Q4l",
        "outputId": "a73ec615-e453-4fb3-e374-150fcbaab6c4"
      },
      "source": [
        "x1 = [73., 93., 89., 96., 73.]\n",
        "x2 = [80., 88., 91., 98., 66.]\n",
        "x3 = [75., 93., 90., 100., 70.]\n",
        "Y = [152., 185., 180., 196., 142.]\n",
        "\n",
        "w1= tf.Variable(tf.random.normal([1]))\n",
        "w2= tf.Variable(tf.random.normal([1]))\n",
        "w3= tf.Variable(tf.random.normal([1]))\n",
        "b= tf.Variable(tf.random.normal([1]))\n",
        "\n",
        "learning_rate = 1e-6\n",
        "\n",
        "for i in range(1000 + 1):\n",
        "  with tf.GradientTape() as tape:\n",
        "    hypothesis = w1 * x1 + w2 * x2 + w3 * x3 + b\n",
        "    cost = tf.reduce_mean(tf.square(hypothesis - Y))\n",
        "  w1_grad, w2_grad, w3_grad, b_grad = tape.gradient(cost, [w1, w2, w3, b])\n",
        "\n",
        "  w1.assign_sub(learning_rate * w1_grad)\n",
        "  w2.assign_sub(learning_rate * w2_grad)\n",
        "  w3.assign_sub(learning_rate * w3_grad)\n",
        "  b.assign_sub(learning_rate * b_grad)\n",
        "\n",
        "  if i % 50 ==0:\n",
        "    print(\"{:5} | {:12.4f}\".format(i, cost.numpy()))\n",
        "\n",
        "w1, w2, w3"
      ],
      "execution_count": 82,
      "outputs": [
        {
          "output_type": "stream",
          "text": [
            "    0 |   25148.0742\n",
            "   50 |     363.6189\n",
            "  100 |      88.3820\n",
            "  150 |      85.1006\n",
            "  200 |      84.8375\n",
            "  250 |      84.6084\n",
            "  300 |      84.3801\n",
            "  350 |      84.1526\n",
            "  400 |      83.9261\n",
            "  450 |      83.7000\n",
            "  500 |      83.4741\n",
            "  550 |      83.2493\n",
            "  600 |      83.0250\n",
            "  650 |      82.8012\n",
            "  700 |      82.5780\n",
            "  750 |      82.3557\n",
            "  800 |      82.1337\n",
            "  850 |      81.9122\n",
            "  900 |      81.6916\n",
            "  950 |      81.4717\n",
            " 1000 |      81.2520\n"
          ],
          "name": "stdout"
        },
        {
          "output_type": "execute_result",
          "data": {
            "text/plain": [
              "(<tf.Variable 'Variable:0' shape=(1,) dtype=float32, numpy=array([-0.66714746], dtype=float32)>,\n",
              " <tf.Variable 'Variable:0' shape=(1,) dtype=float32, numpy=array([2.3058372], dtype=float32)>,\n",
              " <tf.Variable 'Variable:0' shape=(1,) dtype=float32, numpy=array([0.3741417], dtype=float32)>)"
            ]
          },
          "metadata": {
            "tags": []
          },
          "execution_count": 82
        }
      ]
    },
    {
      "cell_type": "markdown",
      "metadata": {
        "id": "zmDqONVmDbXI"
      },
      "source": [
        "#Matrix"
      ]
    },
    {
      "cell_type": "markdown",
      "metadata": {
        "id": "CU582HaqDdQl"
      },
      "source": [
        "$$H(X) = XW$$\n",
        "\n",
        "$$\n",
        "\\begin{pmatrix}\n",
        "x_1 & x_2 & x_3\n",
        "\\end{pmatrix}\n",
        "\\cdot\n",
        "\\begin{pmatrix}\n",
        "w1 \\\\ w2 \\\\ w3\n",
        "\\end{pmatrix}\n",
        "=\n",
        "\\begin{pmatrix}\n",
        "x_1w_1 + x_2w_2 + x_3w_3\n",
        "\\end{pmatrix}\n",
        "$$"
      ]
    },
    {
      "cell_type": "markdown",
      "metadata": {
        "id": "qx0td1CiK-JU"
      },
      "source": [
        "Round brackets:\n",
        "\\begin{pmatrix}\n",
        "1 & 2 & 3\\\\\n",
        "a & b & c\n",
        "\\end{pmatrix}"
      ]
    },
    {
      "cell_type": "code",
      "metadata": {
        "colab": {
          "base_uri": "https://localhost:8080/"
        },
        "id": "OiQg_m51Dg7G",
        "outputId": "2775f5c4-dbcb-4ade-d879-08e4c3365ee1"
      },
      "source": [
        "data = np.array([\n",
        "                 [ 73., 80., 75., 152. ],\n",
        "                 [ 93., 88., 93., 185. ],\n",
        "                 [ 89., 91., 90., 180. ],\n",
        "                 [ 96., 98., 100., 196. ],\n",
        "                 [ 73., 66., 70., 142. ],\n",
        "], dtype=np.float32)\n",
        "\n",
        "X = data[:, :-1]\n",
        "y = data[:, [-1]]\n",
        "X, y"
      ],
      "execution_count": 83,
      "outputs": [
        {
          "output_type": "execute_result",
          "data": {
            "text/plain": [
              "(array([[ 73.,  80.,  75.],\n",
              "        [ 93.,  88.,  93.],\n",
              "        [ 89.,  91.,  90.],\n",
              "        [ 96.,  98., 100.],\n",
              "        [ 73.,  66.,  70.]], dtype=float32), array([[152.],\n",
              "        [185.],\n",
              "        [180.],\n",
              "        [196.],\n",
              "        [142.]], dtype=float32))"
            ]
          },
          "metadata": {
            "tags": []
          },
          "execution_count": 83
        }
      ]
    },
    {
      "cell_type": "code",
      "metadata": {
        "id": "CDSo5DmXEU1A"
      },
      "source": [
        "W = tf.Variable(tf.random.normal([3, 1]))\n",
        "b = tf.Variable(tf.random.normal([1]))\n",
        "\n",
        "def predict(X):\n",
        "  return tf.matmul(X, W) + b"
      ],
      "execution_count": 84,
      "outputs": []
    },
    {
      "cell_type": "code",
      "metadata": {
        "colab": {
          "base_uri": "https://localhost:8080/"
        },
        "id": "DVCgkmUHEfWc",
        "outputId": "3db59dd0-ca41-4531-bc93-3c0d9343660e"
      },
      "source": [
        "learning_rate = 1e-5\n",
        "\n",
        "for i in range(2000 + 1):\n",
        "  with tf.GradientTape() as tape:\n",
        "    cost = tf.reduce_mean(tf.square((predict(X) - y)))\n",
        "\n",
        "  W_grad, b_gard = tape.gradient(cost, [W, b])\n",
        "  \n",
        "  W.assign_sub(learning_rate * W_grad)\n",
        "  b.assign_sub(learning_rate * b_grad)\n",
        "\n",
        "  if i % 100 ==0:\n",
        "    print(\"{:5} | {:12.4f}\".format(i, cost.numpy()))\n",
        "\n",
        "w1, w2, w3"
      ],
      "execution_count": 85,
      "outputs": [
        {
          "output_type": "stream",
          "text": [
            "    0 |   35848.6328\n",
            "  100 |      24.6797\n",
            "  200 |      23.3999\n",
            "  300 |      22.1875\n",
            "  400 |      21.0390\n",
            "  500 |      19.9509\n",
            "  600 |      18.9203\n",
            "  700 |      17.9439\n",
            "  800 |      17.0190\n",
            "  900 |      16.1427\n",
            " 1000 |      15.3127\n",
            " 1100 |      14.5264\n",
            " 1200 |      13.7815\n",
            " 1300 |      13.0758\n",
            " 1400 |      12.4073\n",
            " 1500 |      11.7740\n",
            " 1600 |      11.1740\n",
            " 1700 |      10.6056\n",
            " 1800 |      10.0672\n",
            " 1900 |       9.5570\n",
            " 2000 |       9.0738\n"
          ],
          "name": "stdout"
        },
        {
          "output_type": "execute_result",
          "data": {
            "text/plain": [
              "(<tf.Variable 'Variable:0' shape=(1,) dtype=float32, numpy=array([-0.66714746], dtype=float32)>,\n",
              " <tf.Variable 'Variable:0' shape=(1,) dtype=float32, numpy=array([2.3058372], dtype=float32)>,\n",
              " <tf.Variable 'Variable:0' shape=(1,) dtype=float32, numpy=array([0.3741417], dtype=float32)>)"
            ]
          },
          "metadata": {
            "tags": []
          },
          "execution_count": 85
        }
      ]
    },
    {
      "cell_type": "code",
      "metadata": {
        "id": "gt6RrPvIL8_3"
      },
      "source": [
        ""
      ],
      "execution_count": 85,
      "outputs": []
    }
  ]
}