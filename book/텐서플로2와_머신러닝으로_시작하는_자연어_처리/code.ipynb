{
  "nbformat": 4,
  "nbformat_minor": 0,
  "metadata": {
    "colab": {
      "name": "code.ipynb",
      "provenance": []
    },
    "kernelspec": {
      "name": "python3",
      "display_name": "Python 3"
    },
    "language_info": {
      "name": "python"
    }
  },
  "cells": [
    {
      "cell_type": "markdown",
      "metadata": {
        "id": "ZiL9R4teM3jd"
      },
      "source": [
        "#Chapter 02 | 자연어 처리 개발 준비"
      ]
    },
    {
      "cell_type": "markdown",
      "metadata": {
        "id": "6u7crFKiM6t8"
      },
      "source": [
        "##텐서플로"
      ]
    },
    {
      "cell_type": "markdown",
      "metadata": {
        "id": "g6gTqJFkM-fp"
      },
      "source": [
        "###tf.keras.layers"
      ]
    },
    {
      "cell_type": "markdown",
      "metadata": {
        "id": "rsuMn1zjNBJ0"
      },
      "source": [
        "####tf.keras.layers.Dense\n",
        "\n",
        "$$\n",
        "y=f(Wx+b)\n",
        "$$"
      ]
    },
    {
      "cell_type": "code",
      "metadata": {
        "id": "4jx-HjmUMWUh"
      },
      "source": [
        ""
      ],
      "execution_count": null,
      "outputs": []
    }
  ]
}