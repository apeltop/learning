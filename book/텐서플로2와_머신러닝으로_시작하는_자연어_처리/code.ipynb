{
  "nbformat": 4,
  "nbformat_minor": 0,
  "metadata": {
    "colab": {
      "name": "code.ipynb",
      "provenance": [],
      "toc_visible": true
    },
    "kernelspec": {
      "name": "python3",
      "display_name": "Python 3"
    },
    "language_info": {
      "name": "python"
    }
  },
  "cells": [
    {
      "cell_type": "markdown",
      "metadata": {
        "id": "ZiL9R4teM3jd"
      },
      "source": [
        "#Chapter 02 | 자연어 처리 개발 준비"
      ]
    },
    {
      "cell_type": "markdown",
      "metadata": {
        "id": "6u7crFKiM6t8"
      },
      "source": [
        "##텐서플로"
      ]
    },
    {
      "cell_type": "markdown",
      "metadata": {
        "id": "g6gTqJFkM-fp"
      },
      "source": [
        "###tf.keras.layers"
      ]
    },
    {
      "cell_type": "markdown",
      "metadata": {
        "id": "rsuMn1zjNBJ0"
      },
      "source": [
        "####tf.keras.layers.Dense\n",
        "\n",
        "$$\n",
        "y=f(Wx+b)\n",
        "$$"
      ]
    },
    {
      "cell_type": "markdown",
      "metadata": {
        "id": "2QO6BWAEjrHC"
      },
      "source": [
        "#####__init__\n",
        "\n",
        "units: 출력 값의 크기, Integer 혹은 Long 형태다.\n",
        "\n",
        "activation: 활성화 함수\n",
        "\n",
        "use_bias: 편향(b) 을 사용할지 여부, Boolean 값 형태다.\n",
        "\n",
        "kernel_initializer: 가중치(W) 초기화 함수\n",
        "\n",
        "bias_initializer: 편향 초기화 함수\n",
        "\n",
        "kernel_regularizer: 가중치 값 정규화 방법\n",
        "\n",
        "bias_regularizer: 편향 정규화 방법\n",
        "\n",
        "activity_regularizer: 출력 값 정규화 방법\n",
        "\n",
        "kernel_constraint: Optimizer 에 의해 업데이트된 이후에 가중치에 적용되는 부가적인 제약 함수(예: norm constraint, value constraint)\n",
        "\n",
        "bias_constraint: Optimizer 에 의해 업데이트된 이후에 편향에 적용되는 부가적인 제약 함수(예: norm constraint, value constraint)"
      ]
    },
    {
      "cell_type": "code",
      "metadata": {
        "id": "4jx-HjmUMWUh"
      },
      "source": [
        ""
      ],
      "execution_count": null,
      "outputs": []
    }
  ]
}