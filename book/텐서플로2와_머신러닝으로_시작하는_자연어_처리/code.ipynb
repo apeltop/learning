{
  "nbformat": 4,
  "nbformat_minor": 0,
  "metadata": {
    "colab": {
      "name": "code.ipynb",
      "provenance": [],
      "toc_visible": true
    },
    "kernelspec": {
      "name": "python3",
      "display_name": "Python 3"
    },
    "language_info": {
      "name": "python"
    }
  },
  "cells": [
    {
      "cell_type": "markdown",
      "metadata": {
        "id": "ZiL9R4teM3jd"
      },
      "source": [
        "#Chapter 02 | 자연어 처리 개발 준비"
      ]
    },
    {
      "cell_type": "markdown",
      "metadata": {
        "id": "6u7crFKiM6t8"
      },
      "source": [
        "##텐서플로"
      ]
    },
    {
      "cell_type": "markdown",
      "metadata": {
        "id": "g6gTqJFkM-fp"
      },
      "source": [
        "###tf.keras.layers"
      ]
    },
    {
      "cell_type": "markdown",
      "metadata": {
        "id": "rsuMn1zjNBJ0"
      },
      "source": [
        "####tf.keras.layers.Dense\n",
        "\n",
        "$$\n",
        "y=f(Wx+b)\n",
        "$$"
      ]
    },
    {
      "cell_type": "markdown",
      "metadata": {
        "id": "2QO6BWAEjrHC"
      },
      "source": [
        "#####__init__\n",
        "\n",
        "units: 출력 값의 크기, Integer 혹은 Long 형태다.\n",
        "\n",
        "activation: 활성화 함수\n",
        "\n",
        "use_bias: 편향(b) 을 사용할지 여부, Boolean 값 형태다.\n",
        "\n",
        "kernel_initializer: 가중치(W) 초기화 함수\n",
        "\n",
        "bias_initializer: 편향 초기화 함수\n",
        "\n",
        "kernel_regularizer: 가중치 값 정규화 방법\n",
        "\n",
        "bias_regularizer: 편향 정규화 방법\n",
        "\n",
        "activity_regularizer: 출력 값 정규화 방법\n",
        "\n",
        "kernel_constraint: Optimizer 에 의해 업데이트된 이후에 가중치에 적용되는 부가적인 제약 함수(예: norm constraint, value constraint)\n",
        "\n",
        "bias_constraint: Optimizer 에 의해 업데이트된 이후에 편향에 적용되는 부가적인 제약 함수(예: norm constraint, value constraint)"
      ]
    },
    {
      "cell_type": "markdown",
      "metadata": {
        "id": "LrKwGJgYVSBR"
      },
      "source": [
        "####tf.keras.layers.Dropout"
      ]
    },
    {
      "cell_type": "markdown",
      "metadata": {
        "id": "6fp-FMDRVU-M"
      },
      "source": [
        "#####__init__\n",
        "rate: 드롭아웃을 적용할 확률을 지정한다. 확률 값이므로 0~1 사이의 값을 받는다. 예를 들어 dropout=0.2 로 지정하면 전체 입력값 중에서 20%를 0으로 만든다.\n",
        "\n",
        "noise_shape: 정수형의 1D-tensor 값을 받는다. 여기서 받은 값은 shape 을 뜻하는데, 이 값을 지정함으로써 특정 값만 드롭아웃을 적용할 수 있다. 예를 들면, 입력값이 이미지 일 때 noise_shape 을 지정하면 특정채널에만 드롭아웃을 적용할 수 있다.\n",
        "\n",
        "seed: 드롭아웃의 경우 지정된 확률 값을 바탕으로 무작위로 드롭아웃을 적용하는데, 이것은 임의의 선택을 위한 시드 값을 의미한다. seed 값은 정수형이며, 같은 seed 값을 가지는 드롭아웃의 경우 동일한 드롭아웃 결과를 만든다."
      ]
    },
    {
      "cell_type": "markdown",
      "metadata": {
        "id": "c7fTerj3WAp0"
      },
      "source": [
        "####tf.keras.layers.Conv1D"
      ]
    },
    {
      "cell_type": "markdown",
      "metadata": {
        "id": "3H64Xiu9WDTM"
      },
      "source": [
        "#####__init__\n",
        "\n",
        "filters: 필터의 개수로서, 정수형으로 지정한다. 출력의 차원 수를 나타낸다.\n",
        "\n",
        "kernel_size: 필터의 크기로서, 정수 혹은 정수의 리스트, 튜플 형태로 지정한다. 합성곱이 적용되는 윈도(window)의 길이를 나타낸다.\n",
        "\n",
        "strides: 적용할 스트라이드의 값으로서 정수 혹은 정수의 리스트, 튜플 형태로 지정한다. 1이 아닌 값을 지정할 경우 dlidation_rate 는 1 이외의 값을 지정하지 못한다.\n",
        "\n",
        "padding: 패딩 방법을 정한다. \"VALID\" 또는 \"SAME\" 을 지정할 수 있다.\n",
        "\n",
        "data_format: 데이터의 표현 방법을 선택한다. \"channel_last\" 혹은 \"channel_first\" 를 지정할 수 있다. channel_last 의 경우 데이터는 (batch, length, channels) 형태여야 하고, channel_first 의 경우 데이터는 (batch, channels, length) 형태여야 한다.\n",
        "\n",
        "dliation_rate: dilation 합성곱 사용 시 적용할 dliation 값으로서 정수 혹은 정수의 리스트, 튜플 형태로 지정한다. 1이 아닌 값을 지정하면 strdies 값으로 1 이외의 값을 지정하지 못한다.\n",
        "\n",
        "activation: 활성화 함수\n",
        "\n",
        "use_bias: 편향(b) 을 사용할지 여부, Boolean 값 형태다.\n",
        "\n",
        "kernel_initializer: 가중치(W) 초기화 함수\n",
        "\n",
        "bias_initializer: 편향 초기화 함수\n",
        "\n",
        "kernel_regularizer: 가중치 값 정규화 방법\n",
        "\n",
        "bias_regularizer: 편향 정규화 방법\n",
        "\n",
        "activity_regularizer: 출력 값 정규화 방법\n",
        "\n",
        "kernel_constraint: Optimizer 에 의해 업데이트된 이후에 가중치에 적용되는 부가적인 제약 함수(예: norm constraint, value constraint)\n",
        "\n",
        "bias_constraint: Optimizer 에 의해 업데이트된 이후에 편향에 적용되는 부가적인 제약 함수(예: norm constraint, value constraint)"
      ]
    },
    {
      "cell_type": "markdown",
      "metadata": {
        "id": "GzV6bVN4tYUL"
      },
      "source": [
        "####tf.keras.layers.MaxPool1D"
      ]
    },
    {
      "cell_type": "markdown",
      "metadata": {
        "id": "EL10HMjFta_w"
      },
      "source": [
        "#####init\n",
        "\n",
        "pool_size: 풀링을 적용할 필터의 크기를 뜻한다. 정숫값을 받는다.\n",
        "\n",
        "strides: 적용할 스트라이드의 값. 정수 혹은 None 값을 받는다.\n",
        "\n",
        "padding: 패딩 방법을 지정한다. \"valid\" 또는 \"same\" 을 지정할 수 있다.\n",
        "\n",
        "data_format: 데이터의 표현 방법을 선택한다. \"channel_last\" 혹은 \"channel_first\" 를 지정할 수 있다. channel_last 의 경우 데이터는 (batch, length, channels) 형태여야 하고, channel_first 의 경우 데이터는 (batch, channels, length) 형태여야 한다. "
      ]
    },
    {
      "cell_type": "markdown",
      "metadata": {
        "id": "sk_haX7x39LH"
      },
      "source": [
        "###더미 데이터를 활용한 감정 분석 모델링"
      ]
    },
    {
      "cell_type": "code",
      "metadata": {
        "id": "4jx-HjmUMWUh",
        "colab": {
          "base_uri": "https://localhost:8080/"
        },
        "outputId": "d7691cd5-3447-4129-910d-203197d1af71"
      },
      "source": [
        "import tensorflow as tf\n",
        "from tensorflow.keras import preprocessing\n",
        "from tensorflow.keras import layers\n",
        "samples = [\n",
        "           '너 오늘 이뻐 보인다',\n",
        "           '나는 오늘 기분이 더러워',\n",
        "           '끝내주는데, 좋은 일이 있나봐',\n",
        "           '나 좋은 일이 생겼어',\n",
        "           '아 오늘 진짜 짜증나',\n",
        "           '환상적인데, 정말 좋은거 같아'\n",
        "]\n",
        "\n",
        "labels = [[1], [0], [1], [1], [0], [1]]\n",
        "tokenizer = preprocessing.text.Tokenizer()\n",
        "tokenizer.fit_on_texts(samples)\n",
        "sequences = tokenizer.texts_to_sequences(samples)\n",
        "\n",
        "word_index = tokenizer.word_index\n",
        "word_index"
      ],
      "execution_count": 6,
      "outputs": [
        {
          "output_type": "execute_result",
          "data": {
            "text/plain": [
              "{'같아': 20,\n",
              " '기분이': 8,\n",
              " '끝내주는데': 10,\n",
              " '나': 12,\n",
              " '나는': 7,\n",
              " '너': 4,\n",
              " '더러워': 9,\n",
              " '보인다': 6,\n",
              " '생겼어': 13,\n",
              " '아': 14,\n",
              " '오늘': 1,\n",
              " '이뻐': 5,\n",
              " '일이': 3,\n",
              " '있나봐': 11,\n",
              " '정말': 18,\n",
              " '좋은': 2,\n",
              " '좋은거': 19,\n",
              " '진짜': 15,\n",
              " '짜증나': 16,\n",
              " '환상적인데': 17}"
            ]
          },
          "metadata": {
            "tags": []
          },
          "execution_count": 6
        }
      ]
    },
    {
      "cell_type": "code",
      "metadata": {
        "id": "6bheZFA04HH4"
      },
      "source": [
        "batch_size = 2\n",
        "num_epochs = 100\n",
        "vocab_size = len(word_index) + 1\n",
        "emb_size = 128\n",
        "hidden_dimension = 256\n",
        "output_dimension = 1"
      ],
      "execution_count": 7,
      "outputs": []
    },
    {
      "cell_type": "markdown",
      "metadata": {
        "id": "NaFghI_d7RjU"
      },
      "source": [
        "####Sequential API"
      ]
    },
    {
      "cell_type": "code",
      "metadata": {
        "colab": {
          "base_uri": "https://localhost:8080/"
        },
        "id": "OAHlZmbo5ENB",
        "outputId": "d3df958c-8276-4355-a029-c6b2d3f02a19"
      },
      "source": [
        "model = tf.keras.Sequential()\n",
        "model.add(layers.Embedding(vocab_size, emb_size, input_length = 4))\n",
        "model.add(layers.Lambda(lambda x: tf.reduce_mean(x, axis = 1)))\n",
        "model.add(layers.Dense(hidden_dimension, activation='relu'))\n",
        "model.add(layers.Dense(output_dimension, activation='sigmoid'))\n",
        "\n",
        "model.compile(optimizer=tf.keras.optimizers.Adam(0.001),\n",
        "              loss='binary_crossentropy',\n",
        "              metrics=['accuracy'])\n",
        "\n",
        "model.fit(sequences, labels, epochs=num_epochs, batch_size=batch_size)"
      ],
      "execution_count": 9,
      "outputs": [
        {
          "output_type": "stream",
          "text": [
            "Epoch 1/100\n",
            "3/3 [==============================] - 1s 6ms/step - loss: 0.6988 - accuracy: 0.2292\n",
            "Epoch 2/100\n",
            "3/3 [==============================] - 0s 3ms/step - loss: 0.6800 - accuracy: 0.8542\n",
            "Epoch 3/100\n",
            "3/3 [==============================] - 0s 4ms/step - loss: 0.6692 - accuracy: 1.0000\n",
            "Epoch 4/100\n",
            "3/3 [==============================] - 0s 2ms/step - loss: 0.6556 - accuracy: 1.0000\n",
            "Epoch 5/100\n",
            "3/3 [==============================] - 0s 3ms/step - loss: 0.6300 - accuracy: 1.0000\n",
            "Epoch 6/100\n",
            "3/3 [==============================] - 0s 4ms/step - loss: 0.6124 - accuracy: 1.0000\n",
            "Epoch 7/100\n",
            "3/3 [==============================] - 0s 4ms/step - loss: 0.6050 - accuracy: 1.0000\n",
            "Epoch 8/100\n",
            "3/3 [==============================] - 0s 4ms/step - loss: 0.5729 - accuracy: 1.0000\n",
            "Epoch 9/100\n",
            "3/3 [==============================] - 0s 4ms/step - loss: 0.5415 - accuracy: 1.0000\n",
            "Epoch 10/100\n",
            "3/3 [==============================] - 0s 3ms/step - loss: 0.4978 - accuracy: 1.0000\n",
            "Epoch 11/100\n",
            "3/3 [==============================] - 0s 4ms/step - loss: 0.4476 - accuracy: 1.0000\n",
            "Epoch 12/100\n",
            "3/3 [==============================] - 0s 3ms/step - loss: 0.4285 - accuracy: 1.0000\n",
            "Epoch 13/100\n",
            "3/3 [==============================] - 0s 3ms/step - loss: 0.3821 - accuracy: 1.0000\n",
            "Epoch 14/100\n",
            "3/3 [==============================] - 0s 4ms/step - loss: 0.3274 - accuracy: 1.0000\n",
            "Epoch 15/100\n",
            "3/3 [==============================] - 0s 3ms/step - loss: 0.2606 - accuracy: 1.0000\n",
            "Epoch 16/100\n",
            "3/3 [==============================] - 0s 3ms/step - loss: 0.2408 - accuracy: 1.0000\n",
            "Epoch 17/100\n",
            "3/3 [==============================] - 0s 3ms/step - loss: 0.1677 - accuracy: 1.0000\n",
            "Epoch 18/100\n",
            "3/3 [==============================] - 0s 3ms/step - loss: 0.1320 - accuracy: 1.0000\n",
            "Epoch 19/100\n",
            "3/3 [==============================] - 0s 4ms/step - loss: 0.1292 - accuracy: 1.0000\n",
            "Epoch 20/100\n",
            "3/3 [==============================] - 0s 3ms/step - loss: 0.0903 - accuracy: 1.0000\n",
            "Epoch 21/100\n",
            "3/3 [==============================] - 0s 3ms/step - loss: 0.0622 - accuracy: 1.0000\n",
            "Epoch 22/100\n",
            "3/3 [==============================] - 0s 3ms/step - loss: 0.0537 - accuracy: 1.0000\n",
            "Epoch 23/100\n",
            "3/3 [==============================] - 0s 4ms/step - loss: 0.0506 - accuracy: 1.0000\n",
            "Epoch 24/100\n",
            "3/3 [==============================] - 0s 3ms/step - loss: 0.0403 - accuracy: 1.0000\n",
            "Epoch 25/100\n",
            "3/3 [==============================] - 0s 3ms/step - loss: 0.0267 - accuracy: 1.0000\n",
            "Epoch 26/100\n",
            "3/3 [==============================] - 0s 3ms/step - loss: 0.0178 - accuracy: 1.0000\n",
            "Epoch 27/100\n",
            "3/3 [==============================] - 0s 4ms/step - loss: 0.0196 - accuracy: 1.0000\n",
            "Epoch 28/100\n",
            "3/3 [==============================] - 0s 3ms/step - loss: 0.0168 - accuracy: 1.0000\n",
            "Epoch 29/100\n",
            "3/3 [==============================] - 0s 2ms/step - loss: 0.0148 - accuracy: 1.0000\n",
            "Epoch 30/100\n",
            "3/3 [==============================] - 0s 4ms/step - loss: 0.0114 - accuracy: 1.0000\n",
            "Epoch 31/100\n",
            "3/3 [==============================] - 0s 4ms/step - loss: 0.0107 - accuracy: 1.0000\n",
            "Epoch 32/100\n",
            "3/3 [==============================] - 0s 4ms/step - loss: 0.0076 - accuracy: 1.0000\n",
            "Epoch 33/100\n",
            "3/3 [==============================] - 0s 3ms/step - loss: 0.0069 - accuracy: 1.0000\n",
            "Epoch 34/100\n",
            "3/3 [==============================] - 0s 3ms/step - loss: 0.0063 - accuracy: 1.0000\n",
            "Epoch 35/100\n",
            "3/3 [==============================] - 0s 3ms/step - loss: 0.0071 - accuracy: 1.0000\n",
            "Epoch 36/100\n",
            "3/3 [==============================] - 0s 4ms/step - loss: 0.0065 - accuracy: 1.0000\n",
            "Epoch 37/100\n",
            "3/3 [==============================] - 0s 5ms/step - loss: 0.0053 - accuracy: 1.0000\n",
            "Epoch 38/100\n",
            "3/3 [==============================] - 0s 3ms/step - loss: 0.0041 - accuracy: 1.0000\n",
            "Epoch 39/100\n",
            "3/3 [==============================] - 0s 3ms/step - loss: 0.0042 - accuracy: 1.0000\n",
            "Epoch 40/100\n",
            "3/3 [==============================] - 0s 4ms/step - loss: 0.0036 - accuracy: 1.0000\n",
            "Epoch 41/100\n",
            "3/3 [==============================] - 0s 3ms/step - loss: 0.0034 - accuracy: 1.0000\n",
            "Epoch 42/100\n",
            "3/3 [==============================] - 0s 3ms/step - loss: 0.0039 - accuracy: 1.0000\n",
            "Epoch 43/100\n",
            "3/3 [==============================] - 0s 4ms/step - loss: 0.0042 - accuracy: 1.0000\n",
            "Epoch 44/100\n",
            "3/3 [==============================] - 0s 3ms/step - loss: 0.0032 - accuracy: 1.0000\n",
            "Epoch 45/100\n",
            "3/3 [==============================] - 0s 4ms/step - loss: 0.0036 - accuracy: 1.0000\n",
            "Epoch 46/100\n",
            "3/3 [==============================] - 0s 4ms/step - loss: 0.0030 - accuracy: 1.0000\n",
            "Epoch 47/100\n",
            "3/3 [==============================] - 0s 3ms/step - loss: 0.0029 - accuracy: 1.0000\n",
            "Epoch 48/100\n",
            "3/3 [==============================] - 0s 4ms/step - loss: 0.0032 - accuracy: 1.0000\n",
            "Epoch 49/100\n",
            "3/3 [==============================] - 0s 4ms/step - loss: 0.0027 - accuracy: 1.0000\n",
            "Epoch 50/100\n",
            "3/3 [==============================] - 0s 2ms/step - loss: 0.0024 - accuracy: 1.0000\n",
            "Epoch 51/100\n",
            "3/3 [==============================] - 0s 4ms/step - loss: 0.0024 - accuracy: 1.0000\n",
            "Epoch 52/100\n",
            "3/3 [==============================] - 0s 6ms/step - loss: 0.0023 - accuracy: 1.0000\n",
            "Epoch 53/100\n",
            "3/3 [==============================] - 0s 4ms/step - loss: 0.0018 - accuracy: 1.0000\n",
            "Epoch 54/100\n",
            "3/3 [==============================] - 0s 4ms/step - loss: 0.0021 - accuracy: 1.0000\n",
            "Epoch 55/100\n",
            "3/3 [==============================] - 0s 3ms/step - loss: 0.0021 - accuracy: 1.0000\n",
            "Epoch 56/100\n",
            "3/3 [==============================] - 0s 4ms/step - loss: 0.0020 - accuracy: 1.0000\n",
            "Epoch 57/100\n",
            "3/3 [==============================] - 0s 4ms/step - loss: 0.0021 - accuracy: 1.0000\n",
            "Epoch 58/100\n",
            "3/3 [==============================] - 0s 4ms/step - loss: 0.0020 - accuracy: 1.0000\n",
            "Epoch 59/100\n",
            "3/3 [==============================] - 0s 2ms/step - loss: 0.0017 - accuracy: 1.0000\n",
            "Epoch 60/100\n",
            "3/3 [==============================] - 0s 4ms/step - loss: 0.0016 - accuracy: 1.0000\n",
            "Epoch 61/100\n",
            "3/3 [==============================] - 0s 4ms/step - loss: 0.0017 - accuracy: 1.0000\n",
            "Epoch 62/100\n",
            "3/3 [==============================] - 0s 4ms/step - loss: 0.0016 - accuracy: 1.0000\n",
            "Epoch 63/100\n",
            "3/3 [==============================] - 0s 4ms/step - loss: 0.0014 - accuracy: 1.0000\n",
            "Epoch 64/100\n",
            "3/3 [==============================] - 0s 4ms/step - loss: 0.0014 - accuracy: 1.0000\n",
            "Epoch 65/100\n",
            "3/3 [==============================] - 0s 4ms/step - loss: 0.0014 - accuracy: 1.0000\n",
            "Epoch 66/100\n",
            "3/3 [==============================] - 0s 4ms/step - loss: 0.0013 - accuracy: 1.0000\n",
            "Epoch 67/100\n",
            "3/3 [==============================] - 0s 4ms/step - loss: 0.0013 - accuracy: 1.0000\n",
            "Epoch 68/100\n",
            "3/3 [==============================] - 0s 3ms/step - loss: 0.0013 - accuracy: 1.0000\n",
            "Epoch 69/100\n",
            "3/3 [==============================] - 0s 3ms/step - loss: 0.0013 - accuracy: 1.0000\n",
            "Epoch 70/100\n",
            "3/3 [==============================] - 0s 3ms/step - loss: 0.0013 - accuracy: 1.0000\n",
            "Epoch 71/100\n",
            "3/3 [==============================] - 0s 4ms/step - loss: 0.0011 - accuracy: 1.0000\n",
            "Epoch 72/100\n",
            "3/3 [==============================] - 0s 4ms/step - loss: 0.0012 - accuracy: 1.0000\n",
            "Epoch 73/100\n",
            "3/3 [==============================] - 0s 4ms/step - loss: 0.0010 - accuracy: 1.0000\n",
            "Epoch 74/100\n",
            "3/3 [==============================] - 0s 5ms/step - loss: 0.0012 - accuracy: 1.0000\n",
            "Epoch 75/100\n",
            "3/3 [==============================] - 0s 4ms/step - loss: 0.0010 - accuracy: 1.0000\n",
            "Epoch 76/100\n",
            "3/3 [==============================] - 0s 4ms/step - loss: 0.0012 - accuracy: 1.0000\n",
            "Epoch 77/100\n",
            "3/3 [==============================] - 0s 4ms/step - loss: 0.0011 - accuracy: 1.0000\n",
            "Epoch 78/100\n",
            "3/3 [==============================] - 0s 4ms/step - loss: 8.8021e-04 - accuracy: 1.0000\n",
            "Epoch 79/100\n",
            "3/3 [==============================] - 0s 4ms/step - loss: 9.3379e-04 - accuracy: 1.0000\n",
            "Epoch 80/100\n",
            "3/3 [==============================] - 0s 3ms/step - loss: 7.8652e-04 - accuracy: 1.0000\n",
            "Epoch 81/100\n",
            "3/3 [==============================] - 0s 3ms/step - loss: 8.0061e-04 - accuracy: 1.0000\n",
            "Epoch 82/100\n",
            "3/3 [==============================] - 0s 3ms/step - loss: 7.9453e-04 - accuracy: 1.0000\n",
            "Epoch 83/100\n",
            "3/3 [==============================] - 0s 4ms/step - loss: 8.1879e-04 - accuracy: 1.0000\n",
            "Epoch 84/100\n",
            "3/3 [==============================] - 0s 3ms/step - loss: 8.7127e-04 - accuracy: 1.0000\n",
            "Epoch 85/100\n",
            "3/3 [==============================] - 0s 3ms/step - loss: 8.1847e-04 - accuracy: 1.0000\n",
            "Epoch 86/100\n",
            "3/3 [==============================] - 0s 5ms/step - loss: 8.6223e-04 - accuracy: 1.0000\n",
            "Epoch 87/100\n",
            "3/3 [==============================] - 0s 4ms/step - loss: 8.4905e-04 - accuracy: 1.0000\n",
            "Epoch 88/100\n",
            "3/3 [==============================] - 0s 3ms/step - loss: 6.9002e-04 - accuracy: 1.0000\n",
            "Epoch 89/100\n",
            "3/3 [==============================] - 0s 3ms/step - loss: 6.9701e-04 - accuracy: 1.0000\n",
            "Epoch 90/100\n",
            "3/3 [==============================] - 0s 4ms/step - loss: 7.5584e-04 - accuracy: 1.0000\n",
            "Epoch 91/100\n",
            "3/3 [==============================] - 0s 4ms/step - loss: 7.7928e-04 - accuracy: 1.0000\n",
            "Epoch 92/100\n",
            "3/3 [==============================] - 0s 5ms/step - loss: 7.5161e-04 - accuracy: 1.0000\n",
            "Epoch 93/100\n",
            "3/3 [==============================] - 0s 4ms/step - loss: 7.2120e-04 - accuracy: 1.0000\n",
            "Epoch 94/100\n",
            "3/3 [==============================] - 0s 4ms/step - loss: 6.9004e-04 - accuracy: 1.0000\n",
            "Epoch 95/100\n",
            "3/3 [==============================] - 0s 4ms/step - loss: 6.4514e-04 - accuracy: 1.0000\n",
            "Epoch 96/100\n",
            "3/3 [==============================] - 0s 5ms/step - loss: 7.5401e-04 - accuracy: 1.0000\n",
            "Epoch 97/100\n",
            "3/3 [==============================] - 0s 4ms/step - loss: 6.4734e-04 - accuracy: 1.0000\n",
            "Epoch 98/100\n",
            "3/3 [==============================] - 0s 4ms/step - loss: 5.4501e-04 - accuracy: 1.0000\n",
            "Epoch 99/100\n",
            "3/3 [==============================] - 0s 4ms/step - loss: 6.2057e-04 - accuracy: 1.0000\n",
            "Epoch 100/100\n",
            "3/3 [==============================] - 0s 7ms/step - loss: 5.9742e-04 - accuracy: 1.0000\n"
          ],
          "name": "stdout"
        },
        {
          "output_type": "execute_result",
          "data": {
            "text/plain": [
              "<tensorflow.python.keras.callbacks.History at 0x7f59c2041cd0>"
            ]
          },
          "metadata": {
            "tags": []
          },
          "execution_count": 9
        }
      ]
    },
    {
      "cell_type": "markdown",
      "metadata": {
        "id": "X38UBEyQ7WOs"
      },
      "source": [
        "####Functional API"
      ]
    },
    {
      "cell_type": "code",
      "metadata": {
        "colab": {
          "base_uri": "https://localhost:8080/"
        },
        "id": "J4qZZKl_6E9a",
        "outputId": "1dc68212-d916-44b8-d693-ea85bb7d970e"
      },
      "source": [
        "inputs = layers.Input(shape = (4, ))\n",
        "embed_output = layers.Embedding(vocab_size, emb_size)(inputs)\n",
        "pooled_output = tf.reduce_mean(embed_output, axis=1)\n",
        "hidden_layer = layers.Dense(hidden_dimension, activation='relu')(pooled_output)\n",
        "outputs = layers.Dense(output_dimension, activation='sigmoid')(hidden_layer)\n",
        "model = tf.keras.Model(inputs=inputs, outputs=outputs)\n",
        "\n",
        "model.compile(optimizer=tf.keras.optimizers.Adam(0.001),\n",
        "              loss='binary_crossentropy',\n",
        "              metrics=['accuracy'])\n",
        "model.fit(sequences, labels, epochs=num_epochs, batch_size=batch_size)"
      ],
      "execution_count": 13,
      "outputs": [
        {
          "output_type": "stream",
          "text": [
            "Epoch 1/100\n",
            "3/3 [==============================] - 0s 4ms/step - loss: 0.6944 - accuracy: 0.4375\n",
            "Epoch 2/100\n",
            "3/3 [==============================] - 0s 3ms/step - loss: 0.6754 - accuracy: 1.0000\n",
            "Epoch 3/100\n",
            "3/3 [==============================] - 0s 4ms/step - loss: 0.6639 - accuracy: 1.0000\n",
            "Epoch 4/100\n",
            "3/3 [==============================] - 0s 3ms/step - loss: 0.6434 - accuracy: 1.0000\n",
            "Epoch 5/100\n",
            "3/3 [==============================] - 0s 4ms/step - loss: 0.6233 - accuracy: 1.0000\n",
            "Epoch 6/100\n",
            "3/3 [==============================] - 0s 3ms/step - loss: 0.6096 - accuracy: 1.0000\n",
            "Epoch 7/100\n",
            "3/3 [==============================] - 0s 4ms/step - loss: 0.5851 - accuracy: 1.0000\n",
            "Epoch 8/100\n",
            "3/3 [==============================] - 0s 4ms/step - loss: 0.5544 - accuracy: 1.0000\n",
            "Epoch 9/100\n",
            "3/3 [==============================] - 0s 3ms/step - loss: 0.5419 - accuracy: 1.0000\n",
            "Epoch 10/100\n",
            "3/3 [==============================] - 0s 3ms/step - loss: 0.4818 - accuracy: 1.0000\n",
            "Epoch 11/100\n",
            "3/3 [==============================] - 0s 4ms/step - loss: 0.4607 - accuracy: 1.0000\n",
            "Epoch 12/100\n",
            "3/3 [==============================] - 0s 4ms/step - loss: 0.4391 - accuracy: 1.0000\n",
            "Epoch 13/100\n",
            "3/3 [==============================] - 0s 3ms/step - loss: 0.3481 - accuracy: 1.0000\n",
            "Epoch 14/100\n",
            "3/3 [==============================] - 0s 3ms/step - loss: 0.3000 - accuracy: 1.0000\n",
            "Epoch 15/100\n",
            "3/3 [==============================] - 0s 4ms/step - loss: 0.2597 - accuracy: 1.0000\n",
            "Epoch 16/100\n",
            "3/3 [==============================] - 0s 4ms/step - loss: 0.2353 - accuracy: 1.0000\n",
            "Epoch 17/100\n",
            "3/3 [==============================] - 0s 4ms/step - loss: 0.1990 - accuracy: 1.0000\n",
            "Epoch 18/100\n",
            "3/3 [==============================] - 0s 4ms/step - loss: 0.1529 - accuracy: 1.0000\n",
            "Epoch 19/100\n",
            "3/3 [==============================] - 0s 3ms/step - loss: 0.1205 - accuracy: 1.0000\n",
            "Epoch 20/100\n",
            "3/3 [==============================] - 0s 4ms/step - loss: 0.0983 - accuracy: 1.0000\n",
            "Epoch 21/100\n",
            "3/3 [==============================] - 0s 3ms/step - loss: 0.0803 - accuracy: 1.0000\n",
            "Epoch 22/100\n",
            "3/3 [==============================] - 0s 5ms/step - loss: 0.0656 - accuracy: 1.0000\n",
            "Epoch 23/100\n",
            "3/3 [==============================] - 0s 3ms/step - loss: 0.0468 - accuracy: 1.0000\n",
            "Epoch 24/100\n",
            "3/3 [==============================] - 0s 5ms/step - loss: 0.0360 - accuracy: 1.0000\n",
            "Epoch 25/100\n",
            "3/3 [==============================] - 0s 2ms/step - loss: 0.0284 - accuracy: 1.0000\n",
            "Epoch 26/100\n",
            "3/3 [==============================] - 0s 3ms/step - loss: 0.0241 - accuracy: 1.0000\n",
            "Epoch 27/100\n",
            "3/3 [==============================] - 0s 6ms/step - loss: 0.0190 - accuracy: 1.0000\n",
            "Epoch 28/100\n",
            "3/3 [==============================] - 0s 4ms/step - loss: 0.0159 - accuracy: 1.0000\n",
            "Epoch 29/100\n",
            "3/3 [==============================] - 0s 3ms/step - loss: 0.0155 - accuracy: 1.0000\n",
            "Epoch 30/100\n",
            "3/3 [==============================] - 0s 3ms/step - loss: 0.0105 - accuracy: 1.0000\n",
            "Epoch 31/100\n",
            "3/3 [==============================] - 0s 4ms/step - loss: 0.0101 - accuracy: 1.0000\n",
            "Epoch 32/100\n",
            "3/3 [==============================] - 0s 4ms/step - loss: 0.0099 - accuracy: 1.0000\n",
            "Epoch 33/100\n",
            "3/3 [==============================] - 0s 5ms/step - loss: 0.0066 - accuracy: 1.0000\n",
            "Epoch 34/100\n",
            "3/3 [==============================] - 0s 5ms/step - loss: 0.0069 - accuracy: 1.0000\n",
            "Epoch 35/100\n",
            "3/3 [==============================] - 0s 3ms/step - loss: 0.0067 - accuracy: 1.0000\n",
            "Epoch 36/100\n",
            "3/3 [==============================] - 0s 3ms/step - loss: 0.0065 - accuracy: 1.0000\n",
            "Epoch 37/100\n",
            "3/3 [==============================] - 0s 3ms/step - loss: 0.0064 - accuracy: 1.0000\n",
            "Epoch 38/100\n",
            "3/3 [==============================] - 0s 5ms/step - loss: 0.0050 - accuracy: 1.0000\n",
            "Epoch 39/100\n",
            "3/3 [==============================] - 0s 4ms/step - loss: 0.0042 - accuracy: 1.0000\n",
            "Epoch 40/100\n",
            "3/3 [==============================] - 0s 3ms/step - loss: 0.0043 - accuracy: 1.0000\n",
            "Epoch 41/100\n",
            "3/3 [==============================] - 0s 3ms/step - loss: 0.0039 - accuracy: 1.0000\n",
            "Epoch 42/100\n",
            "3/3 [==============================] - 0s 3ms/step - loss: 0.0045 - accuracy: 1.0000\n",
            "Epoch 43/100\n",
            "3/3 [==============================] - 0s 4ms/step - loss: 0.0038 - accuracy: 1.0000\n",
            "Epoch 44/100\n",
            "3/3 [==============================] - 0s 4ms/step - loss: 0.0036 - accuracy: 1.0000\n",
            "Epoch 45/100\n",
            "3/3 [==============================] - 0s 4ms/step - loss: 0.0033 - accuracy: 1.0000\n",
            "Epoch 46/100\n",
            "3/3 [==============================] - 0s 3ms/step - loss: 0.0030 - accuracy: 1.0000\n",
            "Epoch 47/100\n",
            "3/3 [==============================] - 0s 4ms/step - loss: 0.0032 - accuracy: 1.0000\n",
            "Epoch 48/100\n",
            "3/3 [==============================] - 0s 4ms/step - loss: 0.0028 - accuracy: 1.0000\n",
            "Epoch 49/100\n",
            "3/3 [==============================] - 0s 4ms/step - loss: 0.0027 - accuracy: 1.0000\n",
            "Epoch 50/100\n",
            "3/3 [==============================] - 0s 4ms/step - loss: 0.0026 - accuracy: 1.0000\n",
            "Epoch 51/100\n",
            "3/3 [==============================] - 0s 3ms/step - loss: 0.0024 - accuracy: 1.0000\n",
            "Epoch 52/100\n",
            "3/3 [==============================] - 0s 4ms/step - loss: 0.0025 - accuracy: 1.0000\n",
            "Epoch 53/100\n",
            "3/3 [==============================] - 0s 4ms/step - loss: 0.0026 - accuracy: 1.0000\n",
            "Epoch 54/100\n",
            "3/3 [==============================] - 0s 3ms/step - loss: 0.0018 - accuracy: 1.0000\n",
            "Epoch 55/100\n",
            "3/3 [==============================] - 0s 4ms/step - loss: 0.0024 - accuracy: 1.0000\n",
            "Epoch 56/100\n",
            "3/3 [==============================] - 0s 4ms/step - loss: 0.0019 - accuracy: 1.0000\n",
            "Epoch 57/100\n",
            "3/3 [==============================] - 0s 4ms/step - loss: 0.0019 - accuracy: 1.0000\n",
            "Epoch 58/100\n",
            "3/3 [==============================] - 0s 4ms/step - loss: 0.0022 - accuracy: 1.0000\n",
            "Epoch 59/100\n",
            "3/3 [==============================] - 0s 3ms/step - loss: 0.0018 - accuracy: 1.0000\n",
            "Epoch 60/100\n",
            "3/3 [==============================] - 0s 7ms/step - loss: 0.0017 - accuracy: 1.0000\n",
            "Epoch 61/100\n",
            "3/3 [==============================] - 0s 5ms/step - loss: 0.0016 - accuracy: 1.0000\n",
            "Epoch 62/100\n",
            "3/3 [==============================] - 0s 4ms/step - loss: 0.0015 - accuracy: 1.0000\n",
            "Epoch 63/100\n",
            "3/3 [==============================] - 0s 3ms/step - loss: 0.0016 - accuracy: 1.0000\n",
            "Epoch 64/100\n",
            "3/3 [==============================] - 0s 5ms/step - loss: 0.0015 - accuracy: 1.0000\n",
            "Epoch 65/100\n",
            "3/3 [==============================] - 0s 4ms/step - loss: 0.0017 - accuracy: 1.0000\n",
            "Epoch 66/100\n",
            "3/3 [==============================] - 0s 4ms/step - loss: 0.0014 - accuracy: 1.0000\n",
            "Epoch 67/100\n",
            "3/3 [==============================] - 0s 4ms/step - loss: 0.0014 - accuracy: 1.0000\n",
            "Epoch 68/100\n",
            "3/3 [==============================] - 0s 3ms/step - loss: 0.0013 - accuracy: 1.0000\n",
            "Epoch 69/100\n",
            "3/3 [==============================] - 0s 4ms/step - loss: 0.0012 - accuracy: 1.0000\n",
            "Epoch 70/100\n",
            "3/3 [==============================] - 0s 4ms/step - loss: 0.0013 - accuracy: 1.0000\n",
            "Epoch 71/100\n",
            "3/3 [==============================] - 0s 4ms/step - loss: 0.0013 - accuracy: 1.0000\n",
            "Epoch 72/100\n",
            "3/3 [==============================] - 0s 3ms/step - loss: 0.0013 - accuracy: 1.0000\n",
            "Epoch 73/100\n",
            "3/3 [==============================] - 0s 3ms/step - loss: 0.0013 - accuracy: 1.0000\n",
            "Epoch 74/100\n",
            "3/3 [==============================] - 0s 3ms/step - loss: 0.0013 - accuracy: 1.0000\n",
            "Epoch 75/100\n",
            "3/3 [==============================] - 0s 4ms/step - loss: 9.5478e-04 - accuracy: 1.0000\n",
            "Epoch 76/100\n",
            "3/3 [==============================] - 0s 4ms/step - loss: 0.0011 - accuracy: 1.0000\n",
            "Epoch 77/100\n",
            "3/3 [==============================] - 0s 4ms/step - loss: 9.7818e-04 - accuracy: 1.0000\n",
            "Epoch 78/100\n",
            "3/3 [==============================] - 0s 3ms/step - loss: 0.0012 - accuracy: 1.0000\n",
            "Epoch 79/100\n",
            "3/3 [==============================] - 0s 3ms/step - loss: 0.0010 - accuracy: 1.0000\n",
            "Epoch 80/100\n",
            "3/3 [==============================] - 0s 3ms/step - loss: 0.0011 - accuracy: 1.0000\n",
            "Epoch 81/100\n",
            "3/3 [==============================] - 0s 4ms/step - loss: 9.6447e-04 - accuracy: 1.0000\n",
            "Epoch 82/100\n",
            "3/3 [==============================] - 0s 4ms/step - loss: 8.8129e-04 - accuracy: 1.0000\n",
            "Epoch 83/100\n",
            "3/3 [==============================] - 0s 4ms/step - loss: 9.5626e-04 - accuracy: 1.0000\n",
            "Epoch 84/100\n",
            "3/3 [==============================] - 0s 5ms/step - loss: 9.8396e-04 - accuracy: 1.0000\n",
            "Epoch 85/100\n",
            "3/3 [==============================] - 0s 3ms/step - loss: 8.3112e-04 - accuracy: 1.0000\n",
            "Epoch 86/100\n",
            "3/3 [==============================] - 0s 4ms/step - loss: 8.4271e-04 - accuracy: 1.0000\n",
            "Epoch 87/100\n",
            "3/3 [==============================] - 0s 4ms/step - loss: 7.7712e-04 - accuracy: 1.0000\n",
            "Epoch 88/100\n",
            "3/3 [==============================] - 0s 4ms/step - loss: 7.5859e-04 - accuracy: 1.0000\n",
            "Epoch 89/100\n",
            "3/3 [==============================] - 0s 5ms/step - loss: 6.7687e-04 - accuracy: 1.0000\n",
            "Epoch 90/100\n",
            "3/3 [==============================] - 0s 4ms/step - loss: 7.5729e-04 - accuracy: 1.0000\n",
            "Epoch 91/100\n",
            "3/3 [==============================] - 0s 4ms/step - loss: 7.4096e-04 - accuracy: 1.0000\n",
            "Epoch 92/100\n",
            "3/3 [==============================] - 0s 4ms/step - loss: 7.2875e-04 - accuracy: 1.0000\n",
            "Epoch 93/100\n",
            "3/3 [==============================] - 0s 4ms/step - loss: 7.3640e-04 - accuracy: 1.0000\n",
            "Epoch 94/100\n",
            "3/3 [==============================] - 0s 4ms/step - loss: 7.2809e-04 - accuracy: 1.0000\n",
            "Epoch 95/100\n",
            "3/3 [==============================] - 0s 4ms/step - loss: 6.3242e-04 - accuracy: 1.0000\n",
            "Epoch 96/100\n",
            "3/3 [==============================] - 0s 4ms/step - loss: 6.3154e-04 - accuracy: 1.0000\n",
            "Epoch 97/100\n",
            "3/3 [==============================] - 0s 5ms/step - loss: 6.6444e-04 - accuracy: 1.0000\n",
            "Epoch 98/100\n",
            "3/3 [==============================] - 0s 4ms/step - loss: 6.4950e-04 - accuracy: 1.0000\n",
            "Epoch 99/100\n",
            "3/3 [==============================] - 0s 4ms/step - loss: 6.7998e-04 - accuracy: 1.0000\n",
            "Epoch 100/100\n",
            "3/3 [==============================] - 0s 4ms/step - loss: 6.2701e-04 - accuracy: 1.0000\n"
          ],
          "name": "stdout"
        },
        {
          "output_type": "execute_result",
          "data": {
            "text/plain": [
              "<tensorflow.python.keras.callbacks.History at 0x7f59bf4edbd0>"
            ]
          },
          "metadata": {
            "tags": []
          },
          "execution_count": 13
        }
      ]
    },
    {
      "cell_type": "markdown",
      "metadata": {
        "id": "g8i6_JTq8MJV"
      },
      "source": [
        "####Subclassing"
      ]
    },
    {
      "cell_type": "code",
      "metadata": {
        "colab": {
          "base_uri": "https://localhost:8080/"
        },
        "id": "QM1cV9in77i0",
        "outputId": "7bda9cc8-0f8b-485e-a5bf-a211cf0ead2c"
      },
      "source": [
        "class CustomModel(tf.keras.Model):\n",
        "  def __init__(self, vocab_size, embed_dimension, hidden_dimension, output_dimension):\n",
        "    super(CustomModel, self).__init__(name='my_model')\n",
        "    self.embedding = layers.Embedding(vocab_size, embed_dimension)\n",
        "    self.dense_layer = layers.Dense(hidden_dimension, activation='relu')\n",
        "    self.output_layer = layers.Dense(output_dimension, activation='sigmoid')\n",
        "  \n",
        "  def call(self, inputs):\n",
        "    x = self.embedding(inputs)\n",
        "    x = tf.reduce_mean(x, axis=1)\n",
        "    x = self.dense_layer(x)\n",
        "    x = self.output_layer(x)\n",
        "\n",
        "    return x\n",
        "  \n",
        "\n",
        "model = CustomModel(vocab_size = vocab_size,\n",
        "                    embed_dimension=emb_size,\n",
        "                    hidden_dimension=hidden_dimension,\n",
        "                    output_dimension=output_dimension)\n",
        "\n",
        "model.compile(optimizer=tf.keras.optimizers.Adam(0.001),\n",
        "              loss='binary_crossentropy',\n",
        "              metrics=['accuracy'])\n",
        "\n",
        "model.fit(sequences, labels, epochs=num_epochs, batch_size=batch_size)"
      ],
      "execution_count": 18,
      "outputs": [
        {
          "output_type": "stream",
          "text": [
            "Epoch 1/100\n",
            "3/3 [==============================] - 1s 3ms/step - loss: 0.6936 - accuracy: 0.6458\n",
            "Epoch 2/100\n",
            "3/3 [==============================] - 0s 3ms/step - loss: 0.6727 - accuracy: 1.0000\n",
            "Epoch 3/100\n",
            "3/3 [==============================] - 0s 3ms/step - loss: 0.6534 - accuracy: 1.0000\n",
            "Epoch 4/100\n",
            "3/3 [==============================] - 0s 4ms/step - loss: 0.6386 - accuracy: 1.0000\n",
            "Epoch 5/100\n",
            "3/3 [==============================] - 0s 3ms/step - loss: 0.6297 - accuracy: 1.0000\n",
            "Epoch 6/100\n",
            "3/3 [==============================] - 0s 3ms/step - loss: 0.6030 - accuracy: 1.0000\n",
            "Epoch 7/100\n",
            "3/3 [==============================] - 0s 4ms/step - loss: 0.5722 - accuracy: 1.0000\n",
            "Epoch 8/100\n",
            "3/3 [==============================] - 0s 3ms/step - loss: 0.5449 - accuracy: 1.0000\n",
            "Epoch 9/100\n",
            "3/3 [==============================] - 0s 3ms/step - loss: 0.5173 - accuracy: 1.0000\n",
            "Epoch 10/100\n",
            "3/3 [==============================] - 0s 4ms/step - loss: 0.4645 - accuracy: 1.0000\n",
            "Epoch 11/100\n",
            "3/3 [==============================] - 0s 3ms/step - loss: 0.4271 - accuracy: 1.0000\n",
            "Epoch 12/100\n",
            "3/3 [==============================] - 0s 4ms/step - loss: 0.3632 - accuracy: 1.0000\n",
            "Epoch 13/100\n",
            "3/3 [==============================] - 0s 4ms/step - loss: 0.3499 - accuracy: 1.0000\n",
            "Epoch 14/100\n",
            "3/3 [==============================] - 0s 4ms/step - loss: 0.2875 - accuracy: 1.0000\n",
            "Epoch 15/100\n",
            "3/3 [==============================] - 0s 3ms/step - loss: 0.2561 - accuracy: 1.0000\n",
            "Epoch 16/100\n",
            "3/3 [==============================] - 0s 3ms/step - loss: 0.2054 - accuracy: 1.0000\n",
            "Epoch 17/100\n",
            "3/3 [==============================] - 0s 4ms/step - loss: 0.1749 - accuracy: 1.0000\n",
            "Epoch 18/100\n",
            "3/3 [==============================] - 0s 5ms/step - loss: 0.1203 - accuracy: 1.0000\n",
            "Epoch 19/100\n",
            "3/3 [==============================] - 0s 4ms/step - loss: 0.1283 - accuracy: 1.0000\n",
            "Epoch 20/100\n",
            "3/3 [==============================] - 0s 5ms/step - loss: 0.0668 - accuracy: 1.0000\n",
            "Epoch 21/100\n",
            "3/3 [==============================] - 0s 4ms/step - loss: 0.0627 - accuracy: 1.0000\n",
            "Epoch 22/100\n",
            "3/3 [==============================] - 0s 4ms/step - loss: 0.0467 - accuracy: 1.0000\n",
            "Epoch 23/100\n",
            "3/3 [==============================] - 0s 4ms/step - loss: 0.0421 - accuracy: 1.0000\n",
            "Epoch 24/100\n",
            "3/3 [==============================] - 0s 3ms/step - loss: 0.0276 - accuracy: 1.0000\n",
            "Epoch 25/100\n",
            "3/3 [==============================] - 0s 3ms/step - loss: 0.0252 - accuracy: 1.0000\n",
            "Epoch 26/100\n",
            "3/3 [==============================] - 0s 3ms/step - loss: 0.0245 - accuracy: 1.0000\n",
            "Epoch 27/100\n",
            "3/3 [==============================] - 0s 3ms/step - loss: 0.0195 - accuracy: 1.0000\n",
            "Epoch 28/100\n",
            "3/3 [==============================] - 0s 3ms/step - loss: 0.0137 - accuracy: 1.0000\n",
            "Epoch 29/100\n",
            "3/3 [==============================] - 0s 4ms/step - loss: 0.0149 - accuracy: 1.0000\n",
            "Epoch 30/100\n",
            "3/3 [==============================] - 0s 4ms/step - loss: 0.0084 - accuracy: 1.0000\n",
            "Epoch 31/100\n",
            "3/3 [==============================] - 0s 5ms/step - loss: 0.0102 - accuracy: 1.0000\n",
            "Epoch 32/100\n",
            "3/3 [==============================] - 0s 5ms/step - loss: 0.0098 - accuracy: 1.0000\n",
            "Epoch 33/100\n",
            "3/3 [==============================] - 0s 3ms/step - loss: 0.0074 - accuracy: 1.0000\n",
            "Epoch 34/100\n",
            "3/3 [==============================] - 0s 3ms/step - loss: 0.0072 - accuracy: 1.0000\n",
            "Epoch 35/100\n",
            "3/3 [==============================] - 0s 4ms/step - loss: 0.0050 - accuracy: 1.0000\n",
            "Epoch 36/100\n",
            "3/3 [==============================] - 0s 4ms/step - loss: 0.0061 - accuracy: 1.0000\n",
            "Epoch 37/100\n",
            "3/3 [==============================] - 0s 5ms/step - loss: 0.0051 - accuracy: 1.0000\n",
            "Epoch 38/100\n",
            "3/3 [==============================] - 0s 3ms/step - loss: 0.0043 - accuracy: 1.0000\n",
            "Epoch 39/100\n",
            "3/3 [==============================] - 0s 2ms/step - loss: 0.0040 - accuracy: 1.0000\n",
            "Epoch 40/100\n",
            "3/3 [==============================] - 0s 4ms/step - loss: 0.0040 - accuracy: 1.0000\n",
            "Epoch 41/100\n",
            "3/3 [==============================] - 0s 4ms/step - loss: 0.0033 - accuracy: 1.0000\n",
            "Epoch 42/100\n",
            "3/3 [==============================] - 0s 4ms/step - loss: 0.0043 - accuracy: 1.0000\n",
            "Epoch 43/100\n",
            "3/3 [==============================] - 0s 3ms/step - loss: 0.0031 - accuracy: 1.0000\n",
            "Epoch 44/100\n",
            "3/3 [==============================] - 0s 5ms/step - loss: 0.0032 - accuracy: 1.0000\n",
            "Epoch 45/100\n",
            "3/3 [==============================] - 0s 3ms/step - loss: 0.0026 - accuracy: 1.0000\n",
            "Epoch 46/100\n",
            "3/3 [==============================] - 0s 4ms/step - loss: 0.0032 - accuracy: 1.0000\n",
            "Epoch 47/100\n",
            "3/3 [==============================] - 0s 3ms/step - loss: 0.0027 - accuracy: 1.0000\n",
            "Epoch 48/100\n",
            "3/3 [==============================] - 0s 4ms/step - loss: 0.0026 - accuracy: 1.0000\n",
            "Epoch 49/100\n",
            "3/3 [==============================] - 0s 4ms/step - loss: 0.0030 - accuracy: 1.0000\n",
            "Epoch 50/100\n",
            "3/3 [==============================] - 0s 4ms/step - loss: 0.0025 - accuracy: 1.0000\n",
            "Epoch 51/100\n",
            "3/3 [==============================] - 0s 4ms/step - loss: 0.0028 - accuracy: 1.0000\n",
            "Epoch 52/100\n",
            "3/3 [==============================] - 0s 3ms/step - loss: 0.0023 - accuracy: 1.0000\n",
            "Epoch 53/100\n",
            "3/3 [==============================] - 0s 3ms/step - loss: 0.0020 - accuracy: 1.0000\n",
            "Epoch 54/100\n",
            "3/3 [==============================] - 0s 4ms/step - loss: 0.0019 - accuracy: 1.0000\n",
            "Epoch 55/100\n",
            "3/3 [==============================] - 0s 3ms/step - loss: 0.0017 - accuracy: 1.0000\n",
            "Epoch 56/100\n",
            "3/3 [==============================] - 0s 4ms/step - loss: 0.0020 - accuracy: 1.0000\n",
            "Epoch 57/100\n",
            "3/3 [==============================] - 0s 3ms/step - loss: 0.0020 - accuracy: 1.0000\n",
            "Epoch 58/100\n",
            "3/3 [==============================] - 0s 4ms/step - loss: 0.0020 - accuracy: 1.0000\n",
            "Epoch 59/100\n",
            "3/3 [==============================] - 0s 3ms/step - loss: 0.0017 - accuracy: 1.0000\n",
            "Epoch 60/100\n",
            "3/3 [==============================] - 0s 3ms/step - loss: 0.0018 - accuracy: 1.0000\n",
            "Epoch 61/100\n",
            "3/3 [==============================] - 0s 4ms/step - loss: 0.0017 - accuracy: 1.0000\n",
            "Epoch 62/100\n",
            "3/3 [==============================] - 0s 3ms/step - loss: 0.0015 - accuracy: 1.0000\n",
            "Epoch 63/100\n",
            "3/3 [==============================] - 0s 3ms/step - loss: 0.0015 - accuracy: 1.0000\n",
            "Epoch 64/100\n",
            "3/3 [==============================] - 0s 4ms/step - loss: 0.0014 - accuracy: 1.0000\n",
            "Epoch 65/100\n",
            "3/3 [==============================] - 0s 2ms/step - loss: 0.0014 - accuracy: 1.0000\n",
            "Epoch 66/100\n",
            "3/3 [==============================] - 0s 4ms/step - loss: 0.0014 - accuracy: 1.0000\n",
            "Epoch 67/100\n",
            "3/3 [==============================] - 0s 4ms/step - loss: 0.0012 - accuracy: 1.0000\n",
            "Epoch 68/100\n",
            "3/3 [==============================] - 0s 3ms/step - loss: 0.0012 - accuracy: 1.0000\n",
            "Epoch 69/100\n",
            "3/3 [==============================] - 0s 3ms/step - loss: 0.0012 - accuracy: 1.0000\n",
            "Epoch 70/100\n",
            "3/3 [==============================] - 0s 2ms/step - loss: 0.0010 - accuracy: 1.0000\n",
            "Epoch 71/100\n",
            "3/3 [==============================] - 0s 4ms/step - loss: 9.7779e-04 - accuracy: 1.0000\n",
            "Epoch 72/100\n",
            "3/3 [==============================] - 0s 3ms/step - loss: 0.0011 - accuracy: 1.0000\n",
            "Epoch 73/100\n",
            "3/3 [==============================] - 0s 4ms/step - loss: 0.0013 - accuracy: 1.0000\n",
            "Epoch 74/100\n",
            "3/3 [==============================] - 0s 3ms/step - loss: 9.0888e-04 - accuracy: 1.0000\n",
            "Epoch 75/100\n",
            "3/3 [==============================] - 0s 3ms/step - loss: 0.0011 - accuracy: 1.0000\n",
            "Epoch 76/100\n",
            "3/3 [==============================] - 0s 3ms/step - loss: 0.0011 - accuracy: 1.0000\n",
            "Epoch 77/100\n",
            "3/3 [==============================] - 0s 3ms/step - loss: 8.2676e-04 - accuracy: 1.0000\n",
            "Epoch 78/100\n",
            "3/3 [==============================] - 0s 4ms/step - loss: 9.9792e-04 - accuracy: 1.0000\n",
            "Epoch 79/100\n",
            "3/3 [==============================] - 0s 4ms/step - loss: 9.0635e-04 - accuracy: 1.0000\n",
            "Epoch 80/100\n",
            "3/3 [==============================] - 0s 5ms/step - loss: 9.7412e-04 - accuracy: 1.0000\n",
            "Epoch 81/100\n",
            "3/3 [==============================] - 0s 3ms/step - loss: 7.4160e-04 - accuracy: 1.0000\n",
            "Epoch 82/100\n",
            "3/3 [==============================] - 0s 4ms/step - loss: 0.0010 - accuracy: 1.0000\n",
            "Epoch 83/100\n",
            "3/3 [==============================] - 0s 4ms/step - loss: 8.3702e-04 - accuracy: 1.0000\n",
            "Epoch 84/100\n",
            "3/3 [==============================] - 0s 4ms/step - loss: 8.1622e-04 - accuracy: 1.0000\n",
            "Epoch 85/100\n",
            "3/3 [==============================] - 0s 4ms/step - loss: 7.7923e-04 - accuracy: 1.0000\n",
            "Epoch 86/100\n",
            "3/3 [==============================] - 0s 3ms/step - loss: 8.5349e-04 - accuracy: 1.0000\n",
            "Epoch 87/100\n",
            "3/3 [==============================] - 0s 4ms/step - loss: 7.4780e-04 - accuracy: 1.0000\n",
            "Epoch 88/100\n",
            "3/3 [==============================] - 0s 4ms/step - loss: 7.0162e-04 - accuracy: 1.0000\n",
            "Epoch 89/100\n",
            "3/3 [==============================] - 0s 2ms/step - loss: 7.2847e-04 - accuracy: 1.0000\n",
            "Epoch 90/100\n",
            "3/3 [==============================] - 0s 4ms/step - loss: 6.6156e-04 - accuracy: 1.0000\n",
            "Epoch 91/100\n",
            "3/3 [==============================] - 0s 3ms/step - loss: 6.4483e-04 - accuracy: 1.0000\n",
            "Epoch 92/100\n",
            "3/3 [==============================] - 0s 4ms/step - loss: 6.7480e-04 - accuracy: 1.0000\n",
            "Epoch 93/100\n",
            "3/3 [==============================] - 0s 3ms/step - loss: 6.6500e-04 - accuracy: 1.0000\n",
            "Epoch 94/100\n",
            "3/3 [==============================] - 0s 4ms/step - loss: 5.5462e-04 - accuracy: 1.0000\n",
            "Epoch 95/100\n",
            "3/3 [==============================] - 0s 3ms/step - loss: 6.5128e-04 - accuracy: 1.0000\n",
            "Epoch 96/100\n",
            "3/3 [==============================] - 0s 4ms/step - loss: 6.8374e-04 - accuracy: 1.0000\n",
            "Epoch 97/100\n",
            "3/3 [==============================] - 0s 4ms/step - loss: 6.5693e-04 - accuracy: 1.0000\n",
            "Epoch 98/100\n",
            "3/3 [==============================] - 0s 4ms/step - loss: 5.7967e-04 - accuracy: 1.0000\n",
            "Epoch 99/100\n",
            "3/3 [==============================] - 0s 4ms/step - loss: 6.3198e-04 - accuracy: 1.0000\n",
            "Epoch 100/100\n",
            "3/3 [==============================] - 0s 4ms/step - loss: 6.1660e-04 - accuracy: 1.0000\n"
          ],
          "name": "stdout"
        },
        {
          "output_type": "execute_result",
          "data": {
            "text/plain": [
              "<tensorflow.python.keras.callbacks.History at 0x7f59beba6a90>"
            ]
          },
          "metadata": {
            "tags": []
          },
          "execution_count": 18
        }
      ]
    },
    {
      "cell_type": "markdown",
      "metadata": {
        "id": "tgydJXuu_iv_"
      },
      "source": [
        "##사이킷런(scikit-learn)"
      ]
    },
    {
      "cell_type": "markdown",
      "metadata": {
        "id": "nQFSW_6LEMAu"
      },
      "source": [
        "<img src=\"https://scikit-learn.org/stable/_static/ml_map.png\" />"
      ]
    },
    {
      "cell_type": "markdown",
      "metadata": {
        "id": "1wWpyZdnEgNR"
      },
      "source": [
        "###Iris"
      ]
    },
    {
      "cell_type": "code",
      "metadata": {
        "colab": {
          "base_uri": "https://localhost:8080/"
        },
        "id": "fhBu7xs2-rsr",
        "outputId": "7675bd77-70b0-4217-d7fb-93a7d0097c1e"
      },
      "source": [
        "from sklearn.datasets import load_iris\n",
        "\n",
        "iris_dataset = load_iris()\n",
        "print(\"iris_dataset key: {}\".format(iris_dataset.keys()))"
      ],
      "execution_count": 19,
      "outputs": [
        {
          "output_type": "stream",
          "text": [
            "iris_dataset key: dict_keys(['data', 'target', 'target_names', 'DESCR', 'feature_names', 'filename'])\n"
          ],
          "name": "stdout"
        }
      ]
    },
    {
      "cell_type": "code",
      "metadata": {
        "colab": {
          "base_uri": "https://localhost:8080/"
        },
        "id": "J7Q8GyHGHSdU",
        "outputId": "d024f2eb-7d22-44ec-fb70-98cabc21ab89"
      },
      "source": [
        "print(iris_dataset['data'])\n",
        "print(\"shape of data {}\".format(iris_dataset['data'].shape))"
      ],
      "execution_count": 20,
      "outputs": [
        {
          "output_type": "stream",
          "text": [
            "[[5.1 3.5 1.4 0.2]\n",
            " [4.9 3.  1.4 0.2]\n",
            " [4.7 3.2 1.3 0.2]\n",
            " [4.6 3.1 1.5 0.2]\n",
            " [5.  3.6 1.4 0.2]\n",
            " [5.4 3.9 1.7 0.4]\n",
            " [4.6 3.4 1.4 0.3]\n",
            " [5.  3.4 1.5 0.2]\n",
            " [4.4 2.9 1.4 0.2]\n",
            " [4.9 3.1 1.5 0.1]\n",
            " [5.4 3.7 1.5 0.2]\n",
            " [4.8 3.4 1.6 0.2]\n",
            " [4.8 3.  1.4 0.1]\n",
            " [4.3 3.  1.1 0.1]\n",
            " [5.8 4.  1.2 0.2]\n",
            " [5.7 4.4 1.5 0.4]\n",
            " [5.4 3.9 1.3 0.4]\n",
            " [5.1 3.5 1.4 0.3]\n",
            " [5.7 3.8 1.7 0.3]\n",
            " [5.1 3.8 1.5 0.3]\n",
            " [5.4 3.4 1.7 0.2]\n",
            " [5.1 3.7 1.5 0.4]\n",
            " [4.6 3.6 1.  0.2]\n",
            " [5.1 3.3 1.7 0.5]\n",
            " [4.8 3.4 1.9 0.2]\n",
            " [5.  3.  1.6 0.2]\n",
            " [5.  3.4 1.6 0.4]\n",
            " [5.2 3.5 1.5 0.2]\n",
            " [5.2 3.4 1.4 0.2]\n",
            " [4.7 3.2 1.6 0.2]\n",
            " [4.8 3.1 1.6 0.2]\n",
            " [5.4 3.4 1.5 0.4]\n",
            " [5.2 4.1 1.5 0.1]\n",
            " [5.5 4.2 1.4 0.2]\n",
            " [4.9 3.1 1.5 0.2]\n",
            " [5.  3.2 1.2 0.2]\n",
            " [5.5 3.5 1.3 0.2]\n",
            " [4.9 3.6 1.4 0.1]\n",
            " [4.4 3.  1.3 0.2]\n",
            " [5.1 3.4 1.5 0.2]\n",
            " [5.  3.5 1.3 0.3]\n",
            " [4.5 2.3 1.3 0.3]\n",
            " [4.4 3.2 1.3 0.2]\n",
            " [5.  3.5 1.6 0.6]\n",
            " [5.1 3.8 1.9 0.4]\n",
            " [4.8 3.  1.4 0.3]\n",
            " [5.1 3.8 1.6 0.2]\n",
            " [4.6 3.2 1.4 0.2]\n",
            " [5.3 3.7 1.5 0.2]\n",
            " [5.  3.3 1.4 0.2]\n",
            " [7.  3.2 4.7 1.4]\n",
            " [6.4 3.2 4.5 1.5]\n",
            " [6.9 3.1 4.9 1.5]\n",
            " [5.5 2.3 4.  1.3]\n",
            " [6.5 2.8 4.6 1.5]\n",
            " [5.7 2.8 4.5 1.3]\n",
            " [6.3 3.3 4.7 1.6]\n",
            " [4.9 2.4 3.3 1. ]\n",
            " [6.6 2.9 4.6 1.3]\n",
            " [5.2 2.7 3.9 1.4]\n",
            " [5.  2.  3.5 1. ]\n",
            " [5.9 3.  4.2 1.5]\n",
            " [6.  2.2 4.  1. ]\n",
            " [6.1 2.9 4.7 1.4]\n",
            " [5.6 2.9 3.6 1.3]\n",
            " [6.7 3.1 4.4 1.4]\n",
            " [5.6 3.  4.5 1.5]\n",
            " [5.8 2.7 4.1 1. ]\n",
            " [6.2 2.2 4.5 1.5]\n",
            " [5.6 2.5 3.9 1.1]\n",
            " [5.9 3.2 4.8 1.8]\n",
            " [6.1 2.8 4.  1.3]\n",
            " [6.3 2.5 4.9 1.5]\n",
            " [6.1 2.8 4.7 1.2]\n",
            " [6.4 2.9 4.3 1.3]\n",
            " [6.6 3.  4.4 1.4]\n",
            " [6.8 2.8 4.8 1.4]\n",
            " [6.7 3.  5.  1.7]\n",
            " [6.  2.9 4.5 1.5]\n",
            " [5.7 2.6 3.5 1. ]\n",
            " [5.5 2.4 3.8 1.1]\n",
            " [5.5 2.4 3.7 1. ]\n",
            " [5.8 2.7 3.9 1.2]\n",
            " [6.  2.7 5.1 1.6]\n",
            " [5.4 3.  4.5 1.5]\n",
            " [6.  3.4 4.5 1.6]\n",
            " [6.7 3.1 4.7 1.5]\n",
            " [6.3 2.3 4.4 1.3]\n",
            " [5.6 3.  4.1 1.3]\n",
            " [5.5 2.5 4.  1.3]\n",
            " [5.5 2.6 4.4 1.2]\n",
            " [6.1 3.  4.6 1.4]\n",
            " [5.8 2.6 4.  1.2]\n",
            " [5.  2.3 3.3 1. ]\n",
            " [5.6 2.7 4.2 1.3]\n",
            " [5.7 3.  4.2 1.2]\n",
            " [5.7 2.9 4.2 1.3]\n",
            " [6.2 2.9 4.3 1.3]\n",
            " [5.1 2.5 3.  1.1]\n",
            " [5.7 2.8 4.1 1.3]\n",
            " [6.3 3.3 6.  2.5]\n",
            " [5.8 2.7 5.1 1.9]\n",
            " [7.1 3.  5.9 2.1]\n",
            " [6.3 2.9 5.6 1.8]\n",
            " [6.5 3.  5.8 2.2]\n",
            " [7.6 3.  6.6 2.1]\n",
            " [4.9 2.5 4.5 1.7]\n",
            " [7.3 2.9 6.3 1.8]\n",
            " [6.7 2.5 5.8 1.8]\n",
            " [7.2 3.6 6.1 2.5]\n",
            " [6.5 3.2 5.1 2. ]\n",
            " [6.4 2.7 5.3 1.9]\n",
            " [6.8 3.  5.5 2.1]\n",
            " [5.7 2.5 5.  2. ]\n",
            " [5.8 2.8 5.1 2.4]\n",
            " [6.4 3.2 5.3 2.3]\n",
            " [6.5 3.  5.5 1.8]\n",
            " [7.7 3.8 6.7 2.2]\n",
            " [7.7 2.6 6.9 2.3]\n",
            " [6.  2.2 5.  1.5]\n",
            " [6.9 3.2 5.7 2.3]\n",
            " [5.6 2.8 4.9 2. ]\n",
            " [7.7 2.8 6.7 2. ]\n",
            " [6.3 2.7 4.9 1.8]\n",
            " [6.7 3.3 5.7 2.1]\n",
            " [7.2 3.2 6.  1.8]\n",
            " [6.2 2.8 4.8 1.8]\n",
            " [6.1 3.  4.9 1.8]\n",
            " [6.4 2.8 5.6 2.1]\n",
            " [7.2 3.  5.8 1.6]\n",
            " [7.4 2.8 6.1 1.9]\n",
            " [7.9 3.8 6.4 2. ]\n",
            " [6.4 2.8 5.6 2.2]\n",
            " [6.3 2.8 5.1 1.5]\n",
            " [6.1 2.6 5.6 1.4]\n",
            " [7.7 3.  6.1 2.3]\n",
            " [6.3 3.4 5.6 2.4]\n",
            " [6.4 3.1 5.5 1.8]\n",
            " [6.  3.  4.8 1.8]\n",
            " [6.9 3.1 5.4 2.1]\n",
            " [6.7 3.1 5.6 2.4]\n",
            " [6.9 3.1 5.1 2.3]\n",
            " [5.8 2.7 5.1 1.9]\n",
            " [6.8 3.2 5.9 2.3]\n",
            " [6.7 3.3 5.7 2.5]\n",
            " [6.7 3.  5.2 2.3]\n",
            " [6.3 2.5 5.  1.9]\n",
            " [6.5 3.  5.2 2. ]\n",
            " [6.2 3.4 5.4 2.3]\n",
            " [5.9 3.  5.1 1.8]]\n",
            "shape of data (150, 4)\n"
          ],
          "name": "stdout"
        }
      ]
    },
    {
      "cell_type": "code",
      "metadata": {
        "colab": {
          "base_uri": "https://localhost:8080/"
        },
        "id": "4NQyC1JoHYXt",
        "outputId": "7e579a71-1b43-4ffb-f18d-d3cc198a4d34"
      },
      "source": [
        "print(iris_dataset['feature_names'])"
      ],
      "execution_count": 21,
      "outputs": [
        {
          "output_type": "stream",
          "text": [
            "['sepal length (cm)', 'sepal width (cm)', 'petal length (cm)', 'petal width (cm)']\n"
          ],
          "name": "stdout"
        }
      ]
    },
    {
      "cell_type": "code",
      "metadata": {
        "colab": {
          "base_uri": "https://localhost:8080/"
        },
        "id": "fozcvheuHl_8",
        "outputId": "df66ca58-0695-41ed-8815-fe48659b1df5"
      },
      "source": [
        "print(iris_dataset['target'])\n",
        "print(iris_dataset['target_names'])"
      ],
      "execution_count": 22,
      "outputs": [
        {
          "output_type": "stream",
          "text": [
            "[0 0 0 0 0 0 0 0 0 0 0 0 0 0 0 0 0 0 0 0 0 0 0 0 0 0 0 0 0 0 0 0 0 0 0 0 0\n",
            " 0 0 0 0 0 0 0 0 0 0 0 0 0 1 1 1 1 1 1 1 1 1 1 1 1 1 1 1 1 1 1 1 1 1 1 1 1\n",
            " 1 1 1 1 1 1 1 1 1 1 1 1 1 1 1 1 1 1 1 1 1 1 1 1 1 1 2 2 2 2 2 2 2 2 2 2 2\n",
            " 2 2 2 2 2 2 2 2 2 2 2 2 2 2 2 2 2 2 2 2 2 2 2 2 2 2 2 2 2 2 2 2 2 2 2 2 2\n",
            " 2 2]\n",
            "['setosa' 'versicolor' 'virginica']\n"
          ],
          "name": "stdout"
        }
      ]
    },
    {
      "cell_type": "code",
      "metadata": {
        "colab": {
          "base_uri": "https://localhost:8080/"
        },
        "id": "g4uWA9JVKe4J",
        "outputId": "09cfc8b6-2b91-44e7-f556-caf458defca6"
      },
      "source": [
        "print(iris_dataset['DESCR'])"
      ],
      "execution_count": 23,
      "outputs": [
        {
          "output_type": "stream",
          "text": [
            ".. _iris_dataset:\n",
            "\n",
            "Iris plants dataset\n",
            "--------------------\n",
            "\n",
            "**Data Set Characteristics:**\n",
            "\n",
            "    :Number of Instances: 150 (50 in each of three classes)\n",
            "    :Number of Attributes: 4 numeric, predictive attributes and the class\n",
            "    :Attribute Information:\n",
            "        - sepal length in cm\n",
            "        - sepal width in cm\n",
            "        - petal length in cm\n",
            "        - petal width in cm\n",
            "        - class:\n",
            "                - Iris-Setosa\n",
            "                - Iris-Versicolour\n",
            "                - Iris-Virginica\n",
            "                \n",
            "    :Summary Statistics:\n",
            "\n",
            "    ============== ==== ==== ======= ===== ====================\n",
            "                    Min  Max   Mean    SD   Class Correlation\n",
            "    ============== ==== ==== ======= ===== ====================\n",
            "    sepal length:   4.3  7.9   5.84   0.83    0.7826\n",
            "    sepal width:    2.0  4.4   3.05   0.43   -0.4194\n",
            "    petal length:   1.0  6.9   3.76   1.76    0.9490  (high!)\n",
            "    petal width:    0.1  2.5   1.20   0.76    0.9565  (high!)\n",
            "    ============== ==== ==== ======= ===== ====================\n",
            "\n",
            "    :Missing Attribute Values: None\n",
            "    :Class Distribution: 33.3% for each of 3 classes.\n",
            "    :Creator: R.A. Fisher\n",
            "    :Donor: Michael Marshall (MARSHALL%PLU@io.arc.nasa.gov)\n",
            "    :Date: July, 1988\n",
            "\n",
            "The famous Iris database, first used by Sir R.A. Fisher. The dataset is taken\n",
            "from Fisher's paper. Note that it's the same as in R, but not as in the UCI\n",
            "Machine Learning Repository, which has two wrong data points.\n",
            "\n",
            "This is perhaps the best known database to be found in the\n",
            "pattern recognition literature.  Fisher's paper is a classic in the field and\n",
            "is referenced frequently to this day.  (See Duda & Hart, for example.)  The\n",
            "data set contains 3 classes of 50 instances each, where each class refers to a\n",
            "type of iris plant.  One class is linearly separable from the other 2; the\n",
            "latter are NOT linearly separable from each other.\n",
            "\n",
            ".. topic:: References\n",
            "\n",
            "   - Fisher, R.A. \"The use of multiple measurements in taxonomic problems\"\n",
            "     Annual Eugenics, 7, Part II, 179-188 (1936); also in \"Contributions to\n",
            "     Mathematical Statistics\" (John Wiley, NY, 1950).\n",
            "   - Duda, R.O., & Hart, P.E. (1973) Pattern Classification and Scene Analysis.\n",
            "     (Q327.D83) John Wiley & Sons.  ISBN 0-471-22361-1.  See page 218.\n",
            "   - Dasarathy, B.V. (1980) \"Nosing Around the Neighborhood: A New System\n",
            "     Structure and Classification Rule for Recognition in Partially Exposed\n",
            "     Environments\".  IEEE Transactions on Pattern Analysis and Machine\n",
            "     Intelligence, Vol. PAMI-2, No. 1, 67-71.\n",
            "   - Gates, G.W. (1972) \"The Reduced Nearest Neighbor Rule\".  IEEE Transactions\n",
            "     on Information Theory, May 1972, 431-433.\n",
            "   - See also: 1988 MLC Proceedings, 54-64.  Cheeseman et al\"s AUTOCLASS II\n",
            "     conceptual clustering system finds 3 classes in the data.\n",
            "   - Many, many more ...\n"
          ],
          "name": "stdout"
        }
      ]
    },
    {
      "cell_type": "code",
      "metadata": {
        "colab": {
          "base_uri": "https://localhost:8080/"
        },
        "id": "9i3a47YvKihD",
        "outputId": "828df00e-46a7-45e0-9a9f-b8e13f14a98f"
      },
      "source": [
        "from sklearn.model_selection import train_test_split\n",
        "\n",
        "train_input, test_input, train_label, test_label = train_test_split(iris_dataset['data'],\n",
        "                                                                    iris_dataset['target'], test_size=0.25, random_state=42)\n",
        "\n",
        "print(f\"shape of train_input: {train_input.shape}\")\n",
        "print(f\"shape of test_input: {test_input.shape}\")\n",
        "print(f\"shape of train_label: {train_label.shape}\")\n",
        "print(f\"shape of test_label: {test_label.shape}\")"
      ],
      "execution_count": 24,
      "outputs": [
        {
          "output_type": "stream",
          "text": [
            "shape of train_input: (112, 4)\n",
            "shape of test_input: (38, 4)\n",
            "shape of train_label: (112,)\n",
            "shape of test_label: (38,)\n"
          ],
          "name": "stdout"
        }
      ]
    },
    {
      "cell_type": "markdown",
      "metadata": {
        "id": "tv0_CM8-LyxL"
      },
      "source": [
        "#####사이킷런을 이용한 지도 학습"
      ]
    },
    {
      "cell_type": "code",
      "metadata": {
        "colab": {
          "base_uri": "https://localhost:8080/"
        },
        "id": "gKB7tWHkLunc",
        "outputId": "bf54f1da-0c20-4309-abfd-7d07347166c3"
      },
      "source": [
        "from sklearn.neighbors import KNeighborsClassifier\n",
        "knn = KNeighborsClassifier(n_neighbors = 1)\n",
        "\n",
        "knn.fit(train_input, train_label)"
      ],
      "execution_count": 25,
      "outputs": [
        {
          "output_type": "execute_result",
          "data": {
            "text/plain": [
              "KNeighborsClassifier(algorithm='auto', leaf_size=30, metric='minkowski',\n",
              "                     metric_params=None, n_jobs=None, n_neighbors=1, p=2,\n",
              "                     weights='uniform')"
            ]
          },
          "metadata": {
            "tags": []
          },
          "execution_count": 25
        }
      ]
    },
    {
      "cell_type": "code",
      "metadata": {
        "colab": {
          "base_uri": "https://localhost:8080/"
        },
        "id": "RMVs2hBVMNQI",
        "outputId": "3a539557-8d41-4171-e55e-003997b37d6c"
      },
      "source": [
        "import numpy as np\n",
        "new_input = np.array([[6.1, 2.8, 4.7, 1.2]])\n",
        "\n",
        "knn.predict(new_input)"
      ],
      "execution_count": 26,
      "outputs": [
        {
          "output_type": "execute_result",
          "data": {
            "text/plain": [
              "array([1])"
            ]
          },
          "metadata": {
            "tags": []
          },
          "execution_count": 26
        }
      ]
    },
    {
      "cell_type": "code",
      "metadata": {
        "colab": {
          "base_uri": "https://localhost:8080/"
        },
        "id": "-2iBlTM9MVON",
        "outputId": "b07c22e7-cfd7-4fa4-d34b-2edc95608b91"
      },
      "source": [
        "predict_label = knn.predict(test_input)\n",
        "print(predict_label)"
      ],
      "execution_count": 27,
      "outputs": [
        {
          "output_type": "stream",
          "text": [
            "[1 0 2 1 1 0 1 2 1 1 2 0 0 0 0 1 2 1 1 2 0 2 0 2 2 2 2 2 0 0 0 0 1 0 0 2 1\n",
            " 0]\n"
          ],
          "name": "stdout"
        }
      ]
    },
    {
      "cell_type": "code",
      "metadata": {
        "colab": {
          "base_uri": "https://localhost:8080/"
        },
        "id": "b1lybpQnMZTQ",
        "outputId": "12ed0389-3ab2-4543-a59f-fd2f99c30f40"
      },
      "source": [
        "print(f'test accuracy {np.mean(predict_label == test_label)}')"
      ],
      "execution_count": 28,
      "outputs": [
        {
          "output_type": "stream",
          "text": [
            "test accuracy 1.0\n"
          ],
          "name": "stdout"
        }
      ]
    },
    {
      "cell_type": "markdown",
      "metadata": {
        "id": "iKOkj4VJMpMN"
      },
      "source": [
        "####사이키럿을 이용한 비지도 학습"
      ]
    },
    {
      "cell_type": "code",
      "metadata": {
        "colab": {
          "base_uri": "https://localhost:8080/"
        },
        "id": "OvpMro5DMjcx",
        "outputId": "d874b58f-72c6-409e-8bb7-5b557791a4b4"
      },
      "source": [
        "from sklearn.cluster import KMeans\n",
        "k_means = KMeans(n_clusters=3)\n",
        "\n",
        "k_means.fit(train_input)"
      ],
      "execution_count": 29,
      "outputs": [
        {
          "output_type": "execute_result",
          "data": {
            "text/plain": [
              "KMeans(algorithm='auto', copy_x=True, init='k-means++', max_iter=300,\n",
              "       n_clusters=3, n_init=10, n_jobs=None, precompute_distances='auto',\n",
              "       random_state=None, tol=0.0001, verbose=0)"
            ]
          },
          "metadata": {
            "tags": []
          },
          "execution_count": 29
        }
      ]
    },
    {
      "cell_type": "code",
      "metadata": {
        "colab": {
          "base_uri": "https://localhost:8080/"
        },
        "id": "DpYhMYVRNI57",
        "outputId": "f3c50850-14a2-4105-da49-e9c50b1ca108"
      },
      "source": [
        "k_means.labels_"
      ],
      "execution_count": 30,
      "outputs": [
        {
          "output_type": "execute_result",
          "data": {
            "text/plain": [
              "array([1, 1, 0, 0, 0, 1, 1, 0, 0, 2, 0, 2, 0, 2, 0, 1, 2, 0, 1, 1, 1, 0,\n",
              "       0, 1, 1, 1, 0, 1, 0, 2, 1, 0, 0, 1, 0, 0, 0, 0, 2, 0, 1, 0, 2, 1,\n",
              "       1, 0, 2, 1, 0, 1, 1, 0, 0, 2, 0, 2, 2, 0, 1, 1, 0, 2, 1, 1, 1, 0,\n",
              "       2, 1, 2, 2, 1, 0, 0, 0, 2, 2, 1, 2, 0, 2, 0, 0, 0, 1, 0, 0, 1, 0,\n",
              "       2, 2, 1, 0, 2, 2, 1, 2, 1, 2, 2, 2, 0, 2, 0, 0, 0, 0, 1, 0, 0, 1,\n",
              "       0, 2], dtype=int32)"
            ]
          },
          "metadata": {
            "tags": []
          },
          "execution_count": 30
        }
      ]
    },
    {
      "cell_type": "code",
      "metadata": {
        "colab": {
          "base_uri": "https://localhost:8080/"
        },
        "id": "bZ9eEM9TNLMh",
        "outputId": "14f5cf43-3b31-45fd-eb2c-cc64794ff392"
      },
      "source": [
        "print(f\"0 cluster: {train_label[k_means.labels_ == 0]}\")\n",
        "print(f\"1 cluster: {train_label[k_means.labels_ == 1]}\")\n",
        "print(f\"2 cluster: {train_label[k_means.labels_ == 2]}\")"
      ],
      "execution_count": 32,
      "outputs": [
        {
          "output_type": "stream",
          "text": [
            "0 cluster: [2 1 1 1 2 1 1 1 1 1 2 1 1 1 2 2 2 1 1 1 1 1 2 1 1 1 1 2 1 1 1 2 1 1 1 1 1\n",
            " 1 1 1 1 1 1 2 2 1 2 1]\n",
            "1 cluster: [0 0 0 0 0 0 0 0 0 0 0 0 0 0 0 0 0 0 0 0 0 0 0 0 0 0 0 0 0 0 0 0 0 0 0]\n",
            "2 cluster: [2 2 2 2 2 2 2 1 2 2 2 2 2 2 2 1 2 2 2 2 2 2 2 2 1 2 2 2 2]\n"
          ],
          "name": "stdout"
        }
      ]
    },
    {
      "cell_type": "code",
      "metadata": {
        "colab": {
          "base_uri": "https://localhost:8080/"
        },
        "id": "zAoEu4YQNY-v",
        "outputId": "26fe3998-77bb-43a4-ed1c-c556729db406"
      },
      "source": [
        "predict_cluster = k_means.predict(test_input)\n",
        "print(predict_cluster)"
      ],
      "execution_count": 33,
      "outputs": [
        {
          "output_type": "stream",
          "text": [
            "[0 1 2 0 0 1 0 2 0 0 2 1 1 1 1 0 2 0 0 2 1 0 1 2 2 2 2 2 1 1 1 1 0 1 1 0 0\n",
            " 1]\n"
          ],
          "name": "stdout"
        }
      ]
    },
    {
      "cell_type": "code",
      "metadata": {
        "colab": {
          "base_uri": "https://localhost:8080/"
        },
        "id": "CerDkjbbN0-3",
        "outputId": "7b9b0c66-f73a-4a5e-99dc-4f78619f1c15"
      },
      "source": [
        "np_arr = np.array(predict_cluster)\n",
        "np_arr[np_arr==0], np_arr[np_arr==1], np_arr[np_arr==2] = 3, 4, 5\n",
        "np_arr[np_arr==3] = 1\n",
        "np_arr[np_arr==4] = 0\n",
        "np_arr[np_arr==5] = 2\n",
        "\n",
        "predict_label = np_arr.tolist()\n",
        "print(predict_label)"
      ],
      "execution_count": 34,
      "outputs": [
        {
          "output_type": "stream",
          "text": [
            "[1, 0, 2, 1, 1, 0, 1, 2, 1, 1, 2, 0, 0, 0, 0, 1, 2, 1, 1, 2, 0, 1, 0, 2, 2, 2, 2, 2, 0, 0, 0, 0, 1, 0, 0, 1, 1, 0]\n"
          ],
          "name": "stdout"
        }
      ]
    },
    {
      "cell_type": "code",
      "metadata": {
        "colab": {
          "base_uri": "https://localhost:8080/"
        },
        "id": "r9_oV5T6OLg-",
        "outputId": "6c5aeeec-39a1-4749-86d7-1d2982c3d627"
      },
      "source": [
        "print(f'test accuracy {np.mean(predict_label == test_label)}')"
      ],
      "execution_count": 35,
      "outputs": [
        {
          "output_type": "stream",
          "text": [
            "test accuracy 0.9473684210526315\n"
          ],
          "name": "stdout"
        }
      ]
    },
    {
      "cell_type": "markdown",
      "metadata": {
        "id": "I16TZ7UvTRRo"
      },
      "source": [
        "###사이킷런을 이용한 특징 추출"
      ]
    },
    {
      "cell_type": "markdown",
      "metadata": {
        "id": "yAXtPBQRUhas"
      },
      "source": [
        "####CountVectorizer"
      ]
    },
    {
      "cell_type": "code",
      "metadata": {
        "colab": {
          "base_uri": "https://localhost:8080/"
        },
        "id": "FVqSo-YaOTgr",
        "outputId": "2daddb23-3424-43e8-d8f4-3944688d7cb0"
      },
      "source": [
        "from sklearn.feature_extraction.text import CountVectorizer\n",
        "\n",
        "text_data = [\n",
        "             '나는 배가 고프다',\n",
        "             '내일 점심 뭐먹지',\n",
        "             '내일 공부 해야겠다',\n",
        "             '점심 먹고 공부 해야지'\n",
        "]\n",
        "\n",
        "count_vectorizer = CountVectorizer()\n",
        "count_vectorizer.fit(text_data)\n",
        "print(count_vectorizer.vocabulary_)"
      ],
      "execution_count": 39,
      "outputs": [
        {
          "output_type": "stream",
          "text": [
            "{'나는': 2, '배가': 6, '고프다': 0, '내일': 3, '점심': 7, '뭐먹지': 5, '공부': 1, '해야겠다': 8, '먹고': 4, '해야지': 9}\n"
          ],
          "name": "stdout"
        }
      ]
    },
    {
      "cell_type": "code",
      "metadata": {
        "colab": {
          "base_uri": "https://localhost:8080/"
        },
        "id": "IzBWHefUT_ww",
        "outputId": "7c252955-1e6a-4ee5-d414-67a2ce4052ee"
      },
      "source": [
        "sentence = [text_data[0]] # 나는 배가 고프다\n",
        "print(count_vectorizer.transform(sentence).toarray())"
      ],
      "execution_count": 40,
      "outputs": [
        {
          "output_type": "stream",
          "text": [
            "[[1 0 1 0 0 0 1 0 0 0]]\n"
          ],
          "name": "stdout"
        }
      ]
    },
    {
      "cell_type": "markdown",
      "metadata": {
        "id": "3Q5lfxwJUkFO"
      },
      "source": [
        "####TfidfVectorizer"
      ]
    },
    {
      "cell_type": "markdown",
      "metadata": {
        "id": "NDTEcn6_Vj5K"
      },
      "source": [
        "TF(Term Frequency) 는 특정 단어가 하나의 데이터 안에서 등장하는 횟수를 의미한다.\n",
        "\n",
        "DF(Document Frequency) 는 문서 빈도 값으로, 특정 단어가 여러 데이터에 자주 등장하는지를 알려주는 지표다.\n",
        "\n",
        "IDF(Inverse Document Frequency) 는 이 값에 역수를 취해서 구할 수 있으며, 특정 단어가 다른 데이터에 등장하지 않을수록 값이 커진다는 것을 의미한다.\n",
        "\n",
        "TF-IDF 란 이 두 값을 곱해서 사용하므로 어떤 단어가 해당 문서에 자주 등장하지만 다른 문서에는 많이 없는 단어일수록 높은 값을 가지게 된다. 따라서 조사나 지시대명사처럼 자주 등장하는 단어는 TF 값은 크지만 IDF 값은 작아지므로 TfidfVecotrizer 는 CountVectorizer 가 가진 문제점을 해결할 수 있다."
      ]
    },
    {
      "cell_type": "code",
      "metadata": {
        "colab": {
          "base_uri": "https://localhost:8080/"
        },
        "id": "7Cz7lUeJUHWb",
        "outputId": "e5c037ee-2444-4b8f-a6f2-1336f4b89644"
      },
      "source": [
        "from sklearn.feature_extraction.text import TfidfVectorizer\n",
        "\n",
        "text_data = [\n",
        "             '나는 배가 고프다',\n",
        "             '내일 점심 뭐먹지',\n",
        "             '내일 공부 해야겠다',\n",
        "             '점심 먹고 공부 해야지'\n",
        "]\n",
        "\n",
        "tfidf_vectorizer = TfidfVectorizer()\n",
        "tfidf_vectorizer.fit(text_data)\n",
        "print(tfidf_vectorizer.vocabulary_)\n",
        "\n",
        "sentence = [text_data[3]] #점심 먹고 공부해야지\n",
        "print(tfidf_vectorizer.transform(sentence).toarray())"
      ],
      "execution_count": 41,
      "outputs": [
        {
          "output_type": "stream",
          "text": [
            "{'나는': 2, '배가': 6, '고프다': 0, '내일': 3, '점심': 7, '뭐먹지': 5, '공부': 1, '해야겠다': 8, '먹고': 4, '해야지': 9}\n",
            "[[0.         0.43779123 0.         0.         0.55528266 0.\n",
            "  0.         0.43779123 0.         0.55528266]]\n"
          ],
          "name": "stdout"
        }
      ]
    },
    {
      "cell_type": "markdown",
      "metadata": {
        "id": "U0TJGpaxW49X"
      },
      "source": [
        "##자연어 토크나이징 도구"
      ]
    },
    {
      "cell_type": "markdown",
      "metadata": {
        "id": "kKtd1YYBPEKR"
      },
      "source": [
        "###영어 토크나이징 라이브러리"
      ]
    },
    {
      "cell_type": "markdown",
      "metadata": {
        "id": "MHZyVbKjPGgZ"
      },
      "source": [
        ""
      ]
    },
    {
      "cell_type": "code",
      "metadata": {
        "colab": {
          "base_uri": "https://localhost:8080/"
        },
        "id": "44J_IcHdVFMI",
        "outputId": "33ddfe12-4dc3-408e-b99a-39df4773ad08"
      },
      "source": [
        "import nltk\n",
        "nltk.download()"
      ],
      "execution_count": 3,
      "outputs": [
        {
          "output_type": "stream",
          "text": [
            "NLTK Downloader\n",
            "---------------------------------------------------------------------------\n",
            "    d) Download   l) List    u) Update   c) Config   h) Help   q) Quit\n",
            "---------------------------------------------------------------------------\n",
            "Downloader> l\n",
            "\n",
            "Packages:\n",
            "  [ ] abc................. Australian Broadcasting Commission 2006\n",
            "  [ ] alpino.............. Alpino Dutch Treebank\n",
            "  [ ] averaged_perceptron_tagger Averaged Perceptron Tagger\n",
            "  [ ] averaged_perceptron_tagger_ru Averaged Perceptron Tagger (Russian)\n",
            "  [ ] basque_grammars..... Grammars for Basque\n",
            "  [ ] biocreative_ppi..... BioCreAtIvE (Critical Assessment of Information\n",
            "                           Extraction Systems in Biology)\n",
            "  [ ] bllip_wsj_no_aux.... BLLIP Parser: WSJ Model\n",
            "  [ ] book_grammars....... Grammars from NLTK Book\n",
            "  [ ] brown............... Brown Corpus\n",
            "  [ ] brown_tei........... Brown Corpus (TEI XML Version)\n",
            "  [ ] cess_cat............ CESS-CAT Treebank\n",
            "  [ ] cess_esp............ CESS-ESP Treebank\n",
            "  [ ] chat80.............. Chat-80 Data Files\n",
            "  [ ] city_database....... City Database\n",
            "  [ ] cmudict............. The Carnegie Mellon Pronouncing Dictionary (0.6)\n",
            "  [ ] comparative_sentences Comparative Sentence Dataset\n",
            "  [ ] comtrans............ ComTrans Corpus Sample\n",
            "  [ ] conll2000........... CONLL 2000 Chunking Corpus\n",
            "  [ ] conll2002........... CONLL 2002 Named Entity Recognition Corpus\n",
            "Hit Enter to continue: \n",
            "  [ ] conll2007........... Dependency Treebanks from CoNLL 2007 (Catalan\n",
            "                           and Basque Subset)\n",
            "  [ ] crubadan............ Crubadan Corpus\n",
            "  [ ] dependency_treebank. Dependency Parsed Treebank\n",
            "  [ ] dolch............... Dolch Word List\n",
            "  [ ] europarl_raw........ Sample European Parliament Proceedings Parallel\n",
            "                           Corpus\n",
            "  [ ] floresta............ Portuguese Treebank\n",
            "  [ ] framenet_v15........ FrameNet 1.5\n",
            "  [ ] framenet_v17........ FrameNet 1.7\n",
            "  [ ] gazetteers.......... Gazeteer Lists\n",
            "  [ ] genesis............. Genesis Corpus\n",
            "  [ ] gutenberg........... Project Gutenberg Selections\n",
            "  [ ] ieer................ NIST IE-ER DATA SAMPLE\n",
            "  [ ] inaugural........... C-Span Inaugural Address Corpus\n",
            "  [ ] indian.............. Indian Language POS-Tagged Corpus\n",
            "  [ ] jeita............... JEITA Public Morphologically Tagged Corpus (in\n",
            "                           ChaSen format)\n",
            "  [ ] kimmo............... PC-KIMMO Data Files\n",
            "  [ ] knbc................ KNB Corpus (Annotated blog corpus)\n",
            "  [ ] large_grammars...... Large context-free and feature-based grammars\n",
            "                           for parser comparison\n",
            "Hit Enter to continue: q\n",
            "\n",
            "---------------------------------------------------------------------------\n",
            "    d) Download   l) List    u) Update   c) Config   h) Help   q) Quit\n",
            "---------------------------------------------------------------------------\n",
            "Downloader> d\n",
            "\n",
            "Download which package (l=list; x=cancel)?\n",
            "  Identifier> all\n",
            "    Downloading collection 'all'\n",
            "       | \n",
            "       | Downloading package abc to /root/nltk_data...\n",
            "       |   Unzipping corpora/abc.zip.\n",
            "       | Downloading package alpino to /root/nltk_data...\n",
            "       |   Unzipping corpora/alpino.zip.\n",
            "       | Downloading package biocreative_ppi to /root/nltk_data...\n",
            "       |   Unzipping corpora/biocreative_ppi.zip.\n",
            "       | Downloading package brown to /root/nltk_data...\n",
            "       |   Unzipping corpora/brown.zip.\n",
            "       | Downloading package brown_tei to /root/nltk_data...\n",
            "       |   Unzipping corpora/brown_tei.zip.\n",
            "       | Downloading package cess_cat to /root/nltk_data...\n",
            "       |   Unzipping corpora/cess_cat.zip.\n",
            "       | Downloading package cess_esp to /root/nltk_data...\n",
            "       |   Unzipping corpora/cess_esp.zip.\n",
            "       | Downloading package chat80 to /root/nltk_data...\n",
            "       |   Unzipping corpora/chat80.zip.\n",
            "       | Downloading package city_database to /root/nltk_data...\n",
            "       |   Unzipping corpora/city_database.zip.\n",
            "       | Downloading package cmudict to /root/nltk_data...\n",
            "       |   Unzipping corpora/cmudict.zip.\n",
            "       | Downloading package comparative_sentences to\n",
            "       |     /root/nltk_data...\n",
            "       |   Unzipping corpora/comparative_sentences.zip.\n",
            "       | Downloading package comtrans to /root/nltk_data...\n",
            "       | Downloading package conll2000 to /root/nltk_data...\n",
            "       |   Unzipping corpora/conll2000.zip.\n",
            "       | Downloading package conll2002 to /root/nltk_data...\n",
            "       |   Unzipping corpora/conll2002.zip.\n",
            "       | Downloading package conll2007 to /root/nltk_data...\n",
            "       | Downloading package crubadan to /root/nltk_data...\n",
            "       |   Unzipping corpora/crubadan.zip.\n",
            "       | Downloading package dependency_treebank to /root/nltk_data...\n",
            "       |   Unzipping corpora/dependency_treebank.zip.\n",
            "       | Downloading package dolch to /root/nltk_data...\n",
            "       |   Unzipping corpora/dolch.zip.\n",
            "       | Downloading package europarl_raw to /root/nltk_data...\n",
            "       |   Unzipping corpora/europarl_raw.zip.\n",
            "       | Downloading package floresta to /root/nltk_data...\n",
            "       |   Unzipping corpora/floresta.zip.\n",
            "       | Downloading package framenet_v15 to /root/nltk_data...\n",
            "       |   Unzipping corpora/framenet_v15.zip.\n",
            "       | Downloading package framenet_v17 to /root/nltk_data...\n",
            "       |   Unzipping corpora/framenet_v17.zip.\n",
            "       | Downloading package gazetteers to /root/nltk_data...\n",
            "       |   Unzipping corpora/gazetteers.zip.\n",
            "       | Downloading package genesis to /root/nltk_data...\n",
            "       |   Unzipping corpora/genesis.zip.\n",
            "       | Downloading package gutenberg to /root/nltk_data...\n",
            "       |   Unzipping corpora/gutenberg.zip.\n",
            "       | Downloading package ieer to /root/nltk_data...\n",
            "       |   Unzipping corpora/ieer.zip.\n",
            "       | Downloading package inaugural to /root/nltk_data...\n",
            "       |   Unzipping corpora/inaugural.zip.\n",
            "       | Downloading package indian to /root/nltk_data...\n",
            "       |   Unzipping corpora/indian.zip.\n",
            "       | Downloading package jeita to /root/nltk_data...\n",
            "       | Downloading package kimmo to /root/nltk_data...\n",
            "       |   Unzipping corpora/kimmo.zip.\n",
            "       | Downloading package knbc to /root/nltk_data...\n",
            "       | Downloading package lin_thesaurus to /root/nltk_data...\n",
            "       |   Unzipping corpora/lin_thesaurus.zip.\n",
            "       | Downloading package mac_morpho to /root/nltk_data...\n",
            "       |   Unzipping corpora/mac_morpho.zip.\n",
            "       | Downloading package machado to /root/nltk_data...\n",
            "       | Downloading package masc_tagged to /root/nltk_data...\n",
            "       | Downloading package moses_sample to /root/nltk_data...\n",
            "       |   Unzipping models/moses_sample.zip.\n",
            "       | Downloading package movie_reviews to /root/nltk_data...\n",
            "       |   Unzipping corpora/movie_reviews.zip.\n",
            "       | Downloading package names to /root/nltk_data...\n",
            "       |   Unzipping corpora/names.zip.\n",
            "       | Downloading package nombank.1.0 to /root/nltk_data...\n",
            "       | Downloading package nps_chat to /root/nltk_data...\n",
            "       |   Unzipping corpora/nps_chat.zip.\n",
            "       | Downloading package omw to /root/nltk_data...\n",
            "       |   Unzipping corpora/omw.zip.\n",
            "       | Downloading package opinion_lexicon to /root/nltk_data...\n",
            "       |   Unzipping corpora/opinion_lexicon.zip.\n",
            "       | Downloading package paradigms to /root/nltk_data...\n",
            "       |   Unzipping corpora/paradigms.zip.\n",
            "       | Downloading package pil to /root/nltk_data...\n",
            "       |   Unzipping corpora/pil.zip.\n",
            "       | Downloading package pl196x to /root/nltk_data...\n",
            "       |   Unzipping corpora/pl196x.zip.\n",
            "       | Downloading package ppattach to /root/nltk_data...\n",
            "       |   Unzipping corpora/ppattach.zip.\n",
            "       | Downloading package problem_reports to /root/nltk_data...\n",
            "       |   Unzipping corpora/problem_reports.zip.\n",
            "       | Downloading package propbank to /root/nltk_data...\n",
            "       | Downloading package ptb to /root/nltk_data...\n",
            "       |   Unzipping corpora/ptb.zip.\n",
            "       | Downloading package product_reviews_1 to /root/nltk_data...\n",
            "       |   Unzipping corpora/product_reviews_1.zip.\n",
            "       | Downloading package product_reviews_2 to /root/nltk_data...\n",
            "       |   Unzipping corpora/product_reviews_2.zip.\n",
            "       | Downloading package pros_cons to /root/nltk_data...\n",
            "       |   Unzipping corpora/pros_cons.zip.\n",
            "       | Downloading package qc to /root/nltk_data...\n",
            "       |   Unzipping corpora/qc.zip.\n",
            "       | Downloading package reuters to /root/nltk_data...\n",
            "       | Downloading package rte to /root/nltk_data...\n",
            "       |   Unzipping corpora/rte.zip.\n",
            "       | Downloading package semcor to /root/nltk_data...\n",
            "       | Downloading package senseval to /root/nltk_data...\n",
            "       |   Unzipping corpora/senseval.zip.\n",
            "       | Downloading package sentiwordnet to /root/nltk_data...\n",
            "       |   Unzipping corpora/sentiwordnet.zip.\n",
            "       | Downloading package sentence_polarity to /root/nltk_data...\n",
            "       |   Unzipping corpora/sentence_polarity.zip.\n",
            "       | Downloading package shakespeare to /root/nltk_data...\n",
            "       |   Unzipping corpora/shakespeare.zip.\n",
            "       | Downloading package sinica_treebank to /root/nltk_data...\n",
            "       |   Unzipping corpora/sinica_treebank.zip.\n",
            "       | Downloading package smultron to /root/nltk_data...\n",
            "       |   Unzipping corpora/smultron.zip.\n",
            "       | Downloading package state_union to /root/nltk_data...\n",
            "       |   Unzipping corpora/state_union.zip.\n",
            "       | Downloading package stopwords to /root/nltk_data...\n",
            "       |   Unzipping corpora/stopwords.zip.\n",
            "       | Downloading package subjectivity to /root/nltk_data...\n",
            "       |   Unzipping corpora/subjectivity.zip.\n",
            "       | Downloading package swadesh to /root/nltk_data...\n",
            "       |   Unzipping corpora/swadesh.zip.\n",
            "       | Downloading package switchboard to /root/nltk_data...\n",
            "       |   Unzipping corpora/switchboard.zip.\n",
            "       | Downloading package timit to /root/nltk_data...\n",
            "       |   Unzipping corpora/timit.zip.\n",
            "       | Downloading package toolbox to /root/nltk_data...\n",
            "       |   Unzipping corpora/toolbox.zip.\n",
            "       | Downloading package treebank to /root/nltk_data...\n",
            "       |   Unzipping corpora/treebank.zip.\n",
            "       | Downloading package twitter_samples to /root/nltk_data...\n",
            "       |   Unzipping corpora/twitter_samples.zip.\n",
            "       | Downloading package udhr to /root/nltk_data...\n",
            "       |   Unzipping corpora/udhr.zip.\n",
            "       | Downloading package udhr2 to /root/nltk_data...\n",
            "       |   Unzipping corpora/udhr2.zip.\n",
            "       | Downloading package unicode_samples to /root/nltk_data...\n",
            "       |   Unzipping corpora/unicode_samples.zip.\n",
            "       | Downloading package universal_treebanks_v20 to\n",
            "       |     /root/nltk_data...\n",
            "       | Downloading package verbnet to /root/nltk_data...\n",
            "       |   Unzipping corpora/verbnet.zip.\n",
            "       | Downloading package verbnet3 to /root/nltk_data...\n",
            "       |   Unzipping corpora/verbnet3.zip.\n",
            "       | Downloading package webtext to /root/nltk_data...\n",
            "       |   Unzipping corpora/webtext.zip.\n",
            "       | Downloading package wordnet to /root/nltk_data...\n",
            "       |   Unzipping corpora/wordnet.zip.\n",
            "       | Downloading package wordnet_ic to /root/nltk_data...\n",
            "       |   Unzipping corpora/wordnet_ic.zip.\n",
            "       | Downloading package words to /root/nltk_data...\n",
            "       |   Unzipping corpora/words.zip.\n",
            "       | Downloading package ycoe to /root/nltk_data...\n",
            "       |   Unzipping corpora/ycoe.zip.\n",
            "       | Downloading package rslp to /root/nltk_data...\n",
            "       |   Unzipping stemmers/rslp.zip.\n",
            "       | Downloading package maxent_treebank_pos_tagger to\n",
            "       |     /root/nltk_data...\n",
            "       |   Unzipping taggers/maxent_treebank_pos_tagger.zip.\n",
            "       | Downloading package universal_tagset to /root/nltk_data...\n",
            "       |   Unzipping taggers/universal_tagset.zip.\n",
            "       | Downloading package maxent_ne_chunker to /root/nltk_data...\n",
            "       |   Unzipping chunkers/maxent_ne_chunker.zip.\n",
            "       | Downloading package punkt to /root/nltk_data...\n",
            "       |   Unzipping tokenizers/punkt.zip.\n",
            "       | Downloading package book_grammars to /root/nltk_data...\n",
            "       |   Unzipping grammars/book_grammars.zip.\n",
            "       | Downloading package sample_grammars to /root/nltk_data...\n",
            "       |   Unzipping grammars/sample_grammars.zip.\n",
            "       | Downloading package spanish_grammars to /root/nltk_data...\n",
            "       |   Unzipping grammars/spanish_grammars.zip.\n",
            "       | Downloading package basque_grammars to /root/nltk_data...\n",
            "       |   Unzipping grammars/basque_grammars.zip.\n",
            "       | Downloading package large_grammars to /root/nltk_data...\n",
            "       |   Unzipping grammars/large_grammars.zip.\n",
            "       | Downloading package tagsets to /root/nltk_data...\n",
            "       |   Unzipping help/tagsets.zip.\n",
            "       | Downloading package snowball_data to /root/nltk_data...\n",
            "       | Downloading package bllip_wsj_no_aux to /root/nltk_data...\n",
            "       |   Unzipping models/bllip_wsj_no_aux.zip.\n",
            "       | Downloading package word2vec_sample to /root/nltk_data...\n",
            "       |   Unzipping models/word2vec_sample.zip.\n",
            "       | Downloading package panlex_swadesh to /root/nltk_data...\n",
            "       | Downloading package mte_teip5 to /root/nltk_data...\n",
            "       |   Unzipping corpora/mte_teip5.zip.\n",
            "       | Downloading package averaged_perceptron_tagger to\n",
            "       |     /root/nltk_data...\n",
            "       |   Unzipping taggers/averaged_perceptron_tagger.zip.\n",
            "       | Downloading package averaged_perceptron_tagger_ru to\n",
            "       |     /root/nltk_data...\n",
            "       |   Unzipping taggers/averaged_perceptron_tagger_ru.zip.\n",
            "       | Downloading package perluniprops to /root/nltk_data...\n",
            "       |   Unzipping misc/perluniprops.zip.\n",
            "       | Downloading package nonbreaking_prefixes to\n",
            "       |     /root/nltk_data...\n",
            "       |   Unzipping corpora/nonbreaking_prefixes.zip.\n",
            "       | Downloading package vader_lexicon to /root/nltk_data...\n",
            "       | Downloading package porter_test to /root/nltk_data...\n",
            "       |   Unzipping stemmers/porter_test.zip.\n",
            "       | Downloading package wmt15_eval to /root/nltk_data...\n",
            "       |   Unzipping models/wmt15_eval.zip.\n",
            "       | Downloading package mwa_ppdb to /root/nltk_data...\n",
            "       |   Unzipping misc/mwa_ppdb.zip.\n",
            "       | \n",
            "     Done downloading collection all\n",
            "\n",
            "---------------------------------------------------------------------------\n",
            "    d) Download   l) List    u) Update   c) Config   h) Help   q) Quit\n",
            "---------------------------------------------------------------------------\n",
            "Downloader> q\n"
          ],
          "name": "stdout"
        },
        {
          "output_type": "execute_result",
          "data": {
            "text/plain": [
              "True"
            ]
          },
          "metadata": {
            "tags": []
          },
          "execution_count": 3
        }
      ]
    },
    {
      "cell_type": "markdown",
      "metadata": {
        "id": "IG0IjNoZUHXo"
      },
      "source": [
        "토크나이징이란 텍스트에 대해 특정 기준 단위로 문장을 나누는 것을 의미한다. 예를 들면, 문장을 단어 기준으로 나누거나 전체 글을 문장 단위로 나누는 것들이 토크나이징에 해당한다."
      ]
    },
    {
      "cell_type": "markdown",
      "metadata": {
        "id": "9I8sIlE0UFbt"
      },
      "source": [
        "####단어 단위 토크나이징"
      ]
    },
    {
      "cell_type": "code",
      "metadata": {
        "colab": {
          "base_uri": "https://localhost:8080/"
        },
        "id": "X_4Q2BazPNRC",
        "outputId": "6ff8e524-7060-4750-8032-b363d8e74eb8"
      },
      "source": [
        "from nltk.tokenize import word_tokenize\n",
        "\n",
        "sentence = \"Natural language processing (NLP) is a subfield of computer science, information engineering, and artificial intelligence concerned with the interactions between computers and human (natural) languages, in particualr how to program computers to process and analyze large amounts of natural language data.\"\n",
        "\n",
        "print(word_tokenize(sentence))"
      ],
      "execution_count": 4,
      "outputs": [
        {
          "output_type": "stream",
          "text": [
            "['Natural', 'language', 'processing', '(', 'NLP', ')', 'is', 'a', 'subfield', 'of', 'computer', 'science', ',', 'information', 'engineering', ',', 'and', 'artificial', 'intelligence', 'concerned', 'with', 'the', 'interactions', 'between', 'computers', 'and', 'human', '(', 'natural', ')', 'languages', ',', 'in', 'particualr', 'how', 'to', 'program', 'computers', 'to', 'process', 'and', 'analyze', 'large', 'amounts', 'of', 'natural', 'language', 'data', '.']\n"
          ],
          "name": "stdout"
        }
      ]
    },
    {
      "cell_type": "markdown",
      "metadata": {
        "id": "TrPNi4yoUTGX"
      },
      "source": [
        "####문장 단위 토크나이징"
      ]
    },
    {
      "cell_type": "code",
      "metadata": {
        "colab": {
          "base_uri": "https://localhost:8080/"
        },
        "id": "gFIHRDYcP8lZ",
        "outputId": "5362f8ab-c878-47ab-8a28-9c233bf063d4"
      },
      "source": [
        "from nltk.tokenize import sent_tokenize\n",
        "\n",
        "sentence = \"Natural language processing (NLP) is a subfield of computer science, information engineering, and artificial intelligence concerned with the interactions between computers and human (natural) languages, in particualr how to program computers to process and analyze large amounts of natural language data.\"\n",
        "\n",
        "print(sent_tokenize(sentence))"
      ],
      "execution_count": 5,
      "outputs": [
        {
          "output_type": "stream",
          "text": [
            "['Natural language processing (NLP) is a subfield of computer science, information engineering, and artificial intelligence concerned with the interactions between computers and human (natural) languages, in particualr how to program computers to process and analyze large amounts of natural language data.']\n"
          ],
          "name": "stdout"
        }
      ]
    },
    {
      "cell_type": "code",
      "metadata": {
        "id": "wSALmSSAUY5o"
      },
      "source": [
        ""
      ],
      "execution_count": null,
      "outputs": []
    }
  ]
}